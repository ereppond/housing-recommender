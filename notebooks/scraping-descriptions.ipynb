{
 "cells": [
  {
   "cell_type": "markdown",
   "metadata": {},
   "source": [
    "Web Scraper for Descriptions of Houses"
   ]
  },
  {
   "cell_type": "code",
   "execution_count": 30,
   "metadata": {},
   "outputs": [],
   "source": [
    "from selenium.webdriver import (Chrome)\n",
    "import pandas as pd\n",
    "from itertools import chain\n",
    "from collections import OrderedDict\n",
    "pd.options.display.max_columns = 25\n",
    "import time\n",
    "import random"
   ]
  },
  {
   "cell_type": "markdown",
   "metadata": {},
   "source": [
    "Testing Scraper on First Row of DF"
   ]
  },
  {
   "cell_type": "code",
   "execution_count": 26,
   "metadata": {},
   "outputs": [],
   "source": [
    "url = df['URL'][0]\n",
    "\n",
    "browser.get(url)\n",
    "\n",
    "sel = \"div.sectionContent\"\n",
    "description = browser.find_elements_by_css_selector(sel)\n",
    "\n",
    "description[0].text"
   ]
  },
  {
   "cell_type": "code",
   "execution_count": 45,
   "metadata": {},
   "outputs": [],
   "source": [
    "df_everett = pd.read_csv('../data-housing/everett-may-7.csv')\n",
    "df_lynn = pd.read_csv('../data-housing/lynnwood-may-7.csv')\n",
    "df_edm = pd.read_csv('../data-housing/edmonds-may-7.csv')\n",
    "df_muk = pd.read_csv('../data-housing/mukilteo-may-7.csv')\n",
    "df_mc = pd.read_csv('../data-housing/mill-creek-may-7.csv')\n",
    "df_bothell = pd.read_csv('../data-housing/bothell-may-7.csv')\n",
    "df_kenmore = pd.read_csv('../data-housing/kenmore-may-7.csv')\n",
    "df_lfp = pd.read_csv('../data-housing/lake-forest-park-may-7.csv')\n",
    "df_shoreline = pd.read_csv('../data-housing/shoreline-may-7.csv')\n",
    "df_nsea = pd.read_csv('../data-housing/north-seattle-may-7.csv')\n",
    "df_csea = pd.read_csv('../data-housing/central-seattle-may-7.csv')\n",
    "df_wsea = pd.read_csv('../data-housing/west-seattle-may-7.csv')\n",
    "df_ssea = pd.read_csv('../data-housing/south-seattle-burien-may-7.csv')\n",
    "df_renton = pd.read_csv('../data-housing/renton-may-7.csv')\n",
    "df_newcastle = pd.read_csv('../data-housing/newcastle-may-7.csv')\n",
    "df_bellevue = pd.read_csv('../data-housing/bellevue-may-7.csv')\n",
    "df_kirkland = pd.read_csv('../data-housing/kirkland-may-7.csv')\n",
    "df_redmond = pd.read_csv('../data-housing/redmond-may-7.csv')\n",
    "df_mt = pd.read_csv('../data-housing/mountlake-terrace-may-7.csv')"
   ]
  },
  {
   "cell_type": "code",
   "execution_count": 137,
   "metadata": {},
   "outputs": [],
   "source": [
    "finished_dfs"
   ]
  },
  {
   "cell_type": "code",
   "execution_count": 199,
   "metadata": {},
   "outputs": [],
   "source": [
    "list_of_dfs = [df_wsea, df_renton, df_newcastle, \n",
    "               df_bellevue, df_kirkland, df_redmond]"
   ]
  },
  {
   "cell_type": "markdown",
   "metadata": {},
   "source": [
    "Testing Scraper on Lake Forest Park Data\n",
    "> Works for LFP"
   ]
  },
  {
   "cell_type": "code",
   "execution_count": 51,
   "metadata": {},
   "outputs": [
    {
     "name": "stdout",
     "output_type": "stream",
     "text": [
      "0\n",
      "4\n",
      "8\n",
      "12\n",
      "16\n",
      "20\n"
     ]
    }
   ],
   "source": [
    "df = df_lfp\n",
    "df = df.rename(columns={'URL (SEE http://www.redfin.com/buy-a-home/comparative-market-analysis FOR INFO ON PRICING)': \n",
    "                        'URL'})\n",
    "col = []\n",
    "browser = Chrome()\n",
    "for idx, row in df.iterrows():\n",
    "    url = row['URL']\n",
    "    try:\n",
    "        browser.get(url)\n",
    "        sel = \"div.sectionContent\"\n",
    "        description = browser.find_elements_by_css_selector(sel)\n",
    "        col.append(description[0].text)\n",
    "    except RemoteDisconnected:\n",
    "        col.append('Invalid URL')\n",
    "#     time.sleep(3 + random.random() * 10)\n",
    "    if idx % 4 == 0:\n",
    "        print(idx) \n",
    "df['DESC'] = pd.Series(col)"
   ]
  },
  {
   "cell_type": "code",
   "execution_count": 54,
   "metadata": {},
   "outputs": [],
   "source": [
    "df_lfp = df"
   ]
  },
  {
   "cell_type": "code",
   "execution_count": 209,
   "metadata": {},
   "outputs": [
    {
     "data": {
      "text/html": [
       "<div>\n",
       "<style>\n",
       "    .dataframe thead tr:only-child th {\n",
       "        text-align: right;\n",
       "    }\n",
       "\n",
       "    .dataframe thead th {\n",
       "        text-align: left;\n",
       "    }\n",
       "\n",
       "    .dataframe tbody tr th {\n",
       "        vertical-align: top;\n",
       "    }\n",
       "</style>\n",
       "<table border=\"1\" class=\"dataframe\">\n",
       "  <thead>\n",
       "    <tr style=\"text-align: right;\">\n",
       "      <th></th>\n",
       "      <th>SALE TYPE</th>\n",
       "      <th>SOLD DATE</th>\n",
       "      <th>PROPERTY TYPE</th>\n",
       "      <th>ADDRESS</th>\n",
       "      <th>CITY</th>\n",
       "      <th>STATE</th>\n",
       "      <th>ZIP</th>\n",
       "      <th>PRICE</th>\n",
       "      <th>BEDS</th>\n",
       "      <th>BATHS</th>\n",
       "      <th>LOCATION</th>\n",
       "      <th>SQUARE FEET</th>\n",
       "      <th>...</th>\n",
       "      <th>HOA/MONTH</th>\n",
       "      <th>STATUS</th>\n",
       "      <th>NEXT OPEN HOUSE START TIME</th>\n",
       "      <th>NEXT OPEN HOUSE END TIME</th>\n",
       "      <th>URL</th>\n",
       "      <th>SOURCE</th>\n",
       "      <th>MLS#</th>\n",
       "      <th>FAVORITE</th>\n",
       "      <th>INTERESTED</th>\n",
       "      <th>LATITUDE</th>\n",
       "      <th>LONGITUDE</th>\n",
       "      <th>DESC</th>\n",
       "    </tr>\n",
       "  </thead>\n",
       "  <tbody>\n",
       "  </tbody>\n",
       "</table>\n",
       "<p>0 rows × 28 columns</p>\n",
       "</div>"
      ],
      "text/plain": [
       "Empty DataFrame\n",
       "Columns: [SALE TYPE, SOLD DATE, PROPERTY TYPE, ADDRESS, CITY, STATE, ZIP, PRICE, BEDS, BATHS, LOCATION, SQUARE FEET, LOT SIZE, YEAR BUILT, DAYS ON MARKET, $/SQUARE FEET, HOA/MONTH, STATUS, NEXT OPEN HOUSE START TIME, NEXT OPEN HOUSE END TIME, URL, SOURCE, MLS#, FAVORITE, INTERESTED, LATITUDE, LONGITUDE, DESC]\n",
       "Index: []\n",
       "\n",
       "[0 rows x 28 columns]"
      ]
     },
     "execution_count": 209,
     "metadata": {},
     "output_type": "execute_result"
    }
   ],
   "source": [
    "list_of_dfs[5][list_of_dfs[5]['DESC'] == 'Invalid URL']"
   ]
  },
  {
   "cell_type": "code",
   "execution_count": 200,
   "metadata": {},
   "outputs": [
    {
     "name": "stdout",
     "output_type": "stream",
     "text": [
      "0/6 df 0/266\n",
      "0/6 df 10/266\n",
      "0/6 df 20/266\n",
      "0/6 df 30/266\n",
      "0/6 df 40/266\n",
      "0/6 df 50/266\n",
      "0/6 df 60/266\n",
      "0/6 df 70/266\n",
      "0/6 df 80/266\n",
      "0/6 df 90/266\n",
      "0/6 df 100/266\n",
      "0/6 df 110/266\n",
      "0/6 df 120/266\n",
      "0/6 df 130/266\n",
      "0/6 df 140/266\n",
      "0/6 df 150/266\n",
      "0/6 df 160/266\n",
      "0/6 df 170/266\n",
      "0/6 df 180/266\n",
      "0/6 df 190/266\n",
      "0/6 df 200/266\n",
      "0/6 df 210/266\n",
      "0/6 df 220/266\n",
      "0/6 df 230/266\n",
      "0/6 df 240/266\n",
      "0/6 df 250/266\n",
      "0/6 df 260/266\n",
      "1/6 df 0/303\n",
      "1/6 df 10/303\n",
      "1/6 df 20/303\n",
      "1/6 df 30/303\n",
      "1/6 df 40/303\n",
      "1/6 df 50/303\n",
      "1/6 df 60/303\n",
      "1/6 df 70/303\n",
      "1/6 df 80/303\n",
      "1/6 df 90/303\n",
      "1/6 df 100/303\n",
      "1/6 df 110/303\n",
      "1/6 df 120/303\n",
      "1/6 df 130/303\n",
      "1/6 df 140/303\n",
      "1/6 df 150/303\n",
      "1/6 df 160/303\n",
      "1/6 df 170/303\n",
      "1/6 df 180/303\n",
      "1/6 df 190/303\n",
      "1/6 df 200/303\n",
      "1/6 df 210/303\n",
      "1/6 df 220/303\n",
      "1/6 df 230/303\n",
      "1/6 df 240/303\n",
      "1/6 df 250/303\n",
      "1/6 df 260/303\n",
      "1/6 df 270/303\n",
      "1/6 df 280/303\n",
      "1/6 df 290/303\n",
      "1/6 df 300/303\n",
      "2/6 df 0/21\n",
      "2/6 df 10/21\n",
      "2/6 df 20/21\n",
      "3/6 df 0/245\n",
      "3/6 df 10/245\n",
      "3/6 df 20/245\n",
      "3/6 df 30/245\n",
      "3/6 df 40/245\n",
      "3/6 df 50/245\n",
      "3/6 df 60/245\n",
      "3/6 df 70/245\n",
      "3/6 df 80/245\n",
      "3/6 df 90/245\n",
      "3/6 df 100/245\n",
      "3/6 df 110/245\n",
      "3/6 df 120/245\n",
      "3/6 df 130/245\n",
      "3/6 df 140/245\n",
      "3/6 df 150/245\n",
      "3/6 df 160/245\n",
      "3/6 df 170/245\n",
      "3/6 df 180/245\n",
      "3/6 df 190/245\n",
      "3/6 df 200/245\n",
      "3/6 df 210/245\n",
      "3/6 df 220/245\n",
      "3/6 df 230/245\n",
      "3/6 df 240/245\n",
      "4/6 df 0/168\n",
      "4/6 df 10/168\n",
      "4/6 df 20/168\n",
      "4/6 df 30/168\n",
      "4/6 df 40/168\n",
      "4/6 df 50/168\n",
      "4/6 df 60/168\n",
      "4/6 df 70/168\n",
      "4/6 df 80/168\n",
      "4/6 df 90/168\n",
      "4/6 df 100/168\n",
      "4/6 df 110/168\n",
      "4/6 df 120/168\n",
      "4/6 df 130/168\n",
      "4/6 df 140/168\n",
      "4/6 df 150/168\n",
      "4/6 df 160/168\n",
      "5/6 df 0/119\n",
      "5/6 df 10/119\n",
      "5/6 df 20/119\n",
      "5/6 df 30/119\n",
      "5/6 df 40/119\n",
      "5/6 df 50/119\n",
      "5/6 df 60/119\n",
      "5/6 df 70/119\n",
      "5/6 df 80/119\n",
      "5/6 df 90/119\n",
      "5/6 df 100/119\n",
      "5/6 df 110/119\n"
     ]
    }
   ],
   "source": [
    "for i, df in enumerate(list_of_dfs):\n",
    "    list_of_dfs[i] = list_of_dfs[i].rename(columns={'URL (SEE http://www.redfin.com/buy-a-home/comparative-market-analysis FOR INFO ON PRICING)': \n",
    "                            'URL'})\n",
    "    col = []\n",
    "    browser = Chrome()\n",
    "    for idx, row in list_of_dfs[i].iterrows():\n",
    "        url = row['URL']\n",
    "        try:\n",
    "            browser.get(url)\n",
    "            sel = \"div.sectionContent\"\n",
    "            description = browser.find_elements_by_css_selector(sel)\n",
    "            col.append(description[0].text)\n",
    "        except:\n",
    "            col.append('Invalid URL')\n",
    "        time.sleep(2 + random.random() * 3)\n",
    "        if idx % 10 == 0:\n",
    "            print('{}/{} df'.format(i, len(list_of_dfs)), '{}/{}'.format(idx, len(list_of_dfs[i]))) \n",
    "    list_of_dfs[i]['DESC'] = pd.Series(col)"
   ]
  },
  {
   "cell_type": "code",
   "execution_count": 210,
   "metadata": {},
   "outputs": [],
   "source": [
    "# finished_dfs = list_of_dfs[:7]\n",
    "# finished_dfs.append(df_lfp)\n",
    "# finished_dfs.append(list_of_dfs[9][:140])\n",
    "# finished_dfs.append(list_of_dfs[8][:68])\n",
    "# finished_dfs.extend(list_of_dfs[:4])\n",
    "# finished_dfs.append(list_of_dfs[5][:111])\n",
    "# finished_dfs.extend(list_of_dfs[:3])\n",
    "finished_dfs.extend(list_of_dfs)"
   ]
  },
  {
   "cell_type": "code",
   "execution_count": 213,
   "metadata": {},
   "outputs": [
    {
     "data": {
      "text/html": [
       "<div>\n",
       "<style>\n",
       "    .dataframe thead tr:only-child th {\n",
       "        text-align: right;\n",
       "    }\n",
       "\n",
       "    .dataframe thead th {\n",
       "        text-align: left;\n",
       "    }\n",
       "\n",
       "    .dataframe tbody tr th {\n",
       "        vertical-align: top;\n",
       "    }\n",
       "</style>\n",
       "<table border=\"1\" class=\"dataframe\">\n",
       "  <thead>\n",
       "    <tr style=\"text-align: right;\">\n",
       "      <th></th>\n",
       "      <th>SALE TYPE</th>\n",
       "      <th>SOLD DATE</th>\n",
       "      <th>PROPERTY TYPE</th>\n",
       "      <th>ADDRESS</th>\n",
       "      <th>CITY</th>\n",
       "      <th>STATE</th>\n",
       "      <th>ZIP</th>\n",
       "      <th>PRICE</th>\n",
       "      <th>BEDS</th>\n",
       "      <th>BATHS</th>\n",
       "      <th>LOCATION</th>\n",
       "      <th>SQUARE FEET</th>\n",
       "      <th>...</th>\n",
       "      <th>HOA/MONTH</th>\n",
       "      <th>STATUS</th>\n",
       "      <th>NEXT OPEN HOUSE START TIME</th>\n",
       "      <th>NEXT OPEN HOUSE END TIME</th>\n",
       "      <th>URL</th>\n",
       "      <th>SOURCE</th>\n",
       "      <th>MLS#</th>\n",
       "      <th>FAVORITE</th>\n",
       "      <th>INTERESTED</th>\n",
       "      <th>LATITUDE</th>\n",
       "      <th>LONGITUDE</th>\n",
       "      <th>DESC</th>\n",
       "    </tr>\n",
       "  </thead>\n",
       "  <tbody>\n",
       "    <tr>\n",
       "      <th>222</th>\n",
       "      <td>MLS Listing</td>\n",
       "      <td>NaN</td>\n",
       "      <td>Single Family Residential</td>\n",
       "      <td>1110 N 33rd St</td>\n",
       "      <td>Renton</td>\n",
       "      <td>WA</td>\n",
       "      <td>98056</td>\n",
       "      <td>1099000</td>\n",
       "      <td>4</td>\n",
       "      <td>3.5</td>\n",
       "      <td>Lower Kennydale</td>\n",
       "      <td>3840.0</td>\n",
       "      <td>...</td>\n",
       "      <td>NaN</td>\n",
       "      <td>Active</td>\n",
       "      <td>NaN</td>\n",
       "      <td>NaN</td>\n",
       "      <td>http://www.redfin.com/WA/Renton/1110-N-33rd-St...</td>\n",
       "      <td>NWMLS</td>\n",
       "      <td>1214952</td>\n",
       "      <td>N</td>\n",
       "      <td>Y</td>\n",
       "      <td>47.520846</td>\n",
       "      <td>-122.203786</td>\n",
       "      <td>Invalid URL</td>\n",
       "    </tr>\n",
       "  </tbody>\n",
       "</table>\n",
       "<p>1 rows × 28 columns</p>\n",
       "</div>"
      ],
      "text/plain": [
       "       SALE TYPE  SOLD DATE              PROPERTY TYPE         ADDRESS  \\\n",
       "222  MLS Listing        NaN  Single Family Residential  1110 N 33rd St   \n",
       "\n",
       "       CITY STATE    ZIP    PRICE  BEDS  BATHS         LOCATION  SQUARE FEET  \\\n",
       "222  Renton    WA  98056  1099000     4    3.5  Lower Kennydale       3840.0   \n",
       "\n",
       "        ...       HOA/MONTH  STATUS  NEXT OPEN HOUSE START TIME  \\\n",
       "222     ...             NaN  Active                         NaN   \n",
       "\n",
       "     NEXT OPEN HOUSE END TIME  \\\n",
       "222                       NaN   \n",
       "\n",
       "                                                   URL SOURCE     MLS#  \\\n",
       "222  http://www.redfin.com/WA/Renton/1110-N-33rd-St...  NWMLS  1214952   \n",
       "\n",
       "    FAVORITE INTERESTED   LATITUDE   LONGITUDE         DESC  \n",
       "222        N          Y  47.520846 -122.203786  Invalid URL  \n",
       "\n",
       "[1 rows x 28 columns]"
      ]
     },
     "execution_count": 213,
     "metadata": {},
     "output_type": "execute_result"
    }
   ],
   "source": [
    "finished_dfs[16][finished_dfs[16]['DESC'] == 'Invalid URL']"
   ]
  },
  {
   "cell_type": "code",
   "execution_count": 224,
   "metadata": {},
   "outputs": [],
   "source": [
    "greater_sea_area = pd.concat(finished_dfs, axis=0)"
   ]
  },
  {
   "cell_type": "markdown",
   "metadata": {},
   "source": [
    "out of 2888 houses, only 15 of them dont have a description"
   ]
  },
  {
   "cell_type": "code",
   "execution_count": 227,
   "metadata": {},
   "outputs": [],
   "source": [
    "browser = Chrome()\n",
    "for idx, row in greater_sea_area[greater_sea_area['DESC'] == \n",
    "                                 'Invalid URL'].iterrows():\n",
    "    url = row['URL']\n",
    "    try:\n",
    "        browser.get(url)\n",
    "        sel = \"div.sectionContent\"\n",
    "        description = browser.find_elements_by_css_selector(sel)\n",
    "        row['DESC'] = description[0].text\n",
    "    except:\n",
    "        pass"
   ]
  },
  {
   "cell_type": "code",
   "execution_count": 229,
   "metadata": {},
   "outputs": [],
   "source": [
    "greater_sea_area.to_csv('../data-housing/first_dataset.csv')"
   ]
  },
  {
   "cell_type": "code",
   "execution_count": null,
   "metadata": {},
   "outputs": [],
   "source": []
  }
 ],
 "metadata": {
  "kernelspec": {
   "display_name": "Python 3",
   "language": "python",
   "name": "python3"
  },
  "language_info": {
   "codemirror_mode": {
    "name": "ipython",
    "version": 3
   },
   "file_extension": ".py",
   "mimetype": "text/x-python",
   "name": "python",
   "nbconvert_exporter": "python",
   "pygments_lexer": "ipython3",
   "version": "3.6.3"
  }
 },
 "nbformat": 4,
 "nbformat_minor": 2
}
