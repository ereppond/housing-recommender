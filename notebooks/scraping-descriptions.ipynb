{
 "cells": [
  {
   "cell_type": "markdown",
   "metadata": {},
   "source": [
    "Web Scraper for Descriptions of Houses"
   ]
  },
  {
   "cell_type": "code",
   "execution_count": 30,
   "metadata": {},
   "outputs": [],
   "source": [
    "from selenium.webdriver import (Chrome)\n",
    "import pandas as pd\n",
    "from itertools import chain\n",
    "from collections import OrderedDict\n",
    "pd.options.display.max_columns = 25\n",
    "import time\n",
    "import random"
   ]
  },
  {
   "cell_type": "markdown",
   "metadata": {},
   "source": [
    "Testing Scraper on First Row of DF"
   ]
  },
  {
   "cell_type": "code",
   "execution_count": 26,
   "metadata": {},
   "outputs": [],
   "source": [
    "url = df['URL'][0]\n",
    "\n",
    "browser.get(url)\n",
    "\n",
    "sel = \"div.sectionContent\"\n",
    "description = browser.find_elements_by_css_selector(sel)\n",
    "\n",
    "description[0].text"
   ]
  },
  {
   "cell_type": "code",
   "execution_count": 45,
   "metadata": {},
   "outputs": [],
   "source": [
    "df_everett = pd.read_csv('../data-housing/everett-may-7.csv')\n",
    "df_lynn = pd.read_csv('../data-housing/lynnwood-may-7.csv')\n",
    "df_edm = pd.read_csv('../data-housing/edmonds-may-7.csv')\n",
    "df_muk = pd.read_csv('../data-housing/mukilteo-may-7.csv')\n",
    "df_mc = pd.read_csv('../data-housing/mill-creek-may-7.csv')\n",
    "df_bothell = pd.read_csv('../data-housing/bothell-may-7.csv')\n",
    "df_kenmore = pd.read_csv('../data-housing/kenmore-may-7.csv')\n",
    "df_lfp = pd.read_csv('../data-housing/lake-forest-park-may-7.csv')\n",
    "df_shoreline = pd.read_csv('../data-housing/shoreline-may-7.csv')\n",
    "df_nsea = pd.read_csv('../data-housing/north-seattle-may-7.csv')\n",
    "df_csea = pd.read_csv('../data-housing/central-seattle-may-7.csv')\n",
    "df_wsea = pd.read_csv('../data-housing/west-seattle-may-7.csv')\n",
    "df_ssea = pd.read_csv('../data-housing/south-seattle-burien-may-7.csv')\n",
    "df_renton = pd.read_csv('../data-housing/renton-may-7.csv')\n",
    "df_newcastle = pd.read_csv('../data-housing/newcastle-may-7.csv')\n",
    "df_bellevue = pd.read_csv('../data-housing/bellevue-may-7.csv')\n",
    "df_kirkland = pd.read_csv('../data-housing/kirkland-may-7.csv')\n",
    "df_redmond = pd.read_csv('../data-housing/redmond-may-7.csv')"
   ]
  },
  {
   "cell_type": "code",
   "execution_count": 46,
   "metadata": {},
   "outputs": [],
   "source": [
    "list_of_dfs = [df_everett, df_lynn, df_edm, \n",
    "               df_muk, df_mc, df_bothell, \n",
    "               df_kenmore, df_nsea,\n",
    "               df_csea, df_shoreline, df_ssea, \n",
    "               df_wsea, df_renton, df_newcastle, \n",
    "               df_bellevue, df_kirkland, df_redmond]"
   ]
  },
  {
   "cell_type": "markdown",
   "metadata": {},
   "source": [
    "Testing Scraper on Lake Forest Park Data\n",
    "> Works for LFP"
   ]
  },
  {
   "cell_type": "code",
   "execution_count": 51,
   "metadata": {},
   "outputs": [
    {
     "name": "stdout",
     "output_type": "stream",
     "text": [
      "0\n",
      "4\n",
      "8\n",
      "12\n",
      "16\n",
      "20\n"
     ]
    }
   ],
   "source": [
    "df = df_lfp\n",
    "df = df.rename(columns={'URL (SEE http://www.redfin.com/buy-a-home/comparative-market-analysis FOR INFO ON PRICING)': \n",
    "                        'URL'})\n",
    "col = []\n",
    "browser = Chrome()\n",
    "for idx, row in df.iterrows():\n",
    "    url = row['URL']\n",
    "    try:\n",
    "        browser.get(url)\n",
    "        sel = \"div.sectionContent\"\n",
    "        description = browser.find_elements_by_css_selector(sel)\n",
    "        col.append(description[0].text)\n",
    "    except RemoteDisconnected:\n",
    "        col.append('Invalid URL')\n",
    "#     time.sleep(3 + random.random() * 10)\n",
    "    if idx % 4 == 0:\n",
    "        print(idx) \n",
    "df['DESC'] = pd.Series(col)"
   ]
  },
  {
   "cell_type": "code",
   "execution_count": 54,
   "metadata": {},
   "outputs": [],
   "source": [
    "df_lfp = df"
   ]
  },
  {
   "cell_type": "code",
   "execution_count": 63,
   "metadata": {},
   "outputs": [],
   "source": [
    "for idx, df in enumerate(list_of_dfs):\n",
    "    list_of_dfs[idx] = list_of_dfs[idx].rename(columns={'URL (SEE http://www.redfin.com/buy-a-home/comparative-market-analysis FOR INFO ON PRICING)': \n",
    "                            'URL'})"
   ]
  },
  {
   "cell_type": "code",
   "execution_count": null,
   "metadata": {},
   "outputs": [
    {
     "name": "stdout",
     "output_type": "stream",
     "text": [
      "0\n",
      "10\n",
      "20\n",
      "30\n",
      "40\n",
      "50\n",
      "60\n",
      "70\n",
      "80\n",
      "90\n",
      "100\n",
      "110\n",
      "120\n",
      "130\n",
      "140\n",
      "150\n",
      "160\n",
      "170\n",
      "180\n",
      "190\n",
      "200\n",
      "210\n",
      "220\n",
      "0\n",
      "10\n",
      "20\n",
      "30\n",
      "40\n"
     ]
    }
   ],
   "source": [
    "for i, df in enumerate(list_of_dfs):\n",
    "    list_of_dfs[i] = list_of_dfs[i].rename(columns={'URL (SEE http://www.redfin.com/buy-a-home/comparative-market-analysis FOR INFO ON PRICING)': \n",
    "                            'URL'})\n",
    "    col = []\n",
    "    browser = Chrome()\n",
    "    for idx, row in list_of_dfs[i].iterrows():\n",
    "        url = row['URL']\n",
    "        try:\n",
    "            browser.get(url)\n",
    "            sel = \"div.sectionContent\"\n",
    "            description = browser.find_elements_by_css_selector(sel)\n",
    "            col.append(description[0].text)\n",
    "        except:\n",
    "            col.append('Invalid URL')\n",
    "        time.sleep(3 + random.random() * 10)\n",
    "        if idx % 10 == 0:\n",
    "            print(idx) \n",
    "    list_of_dfs[i]['DESC'] = pd.Series(col)"
   ]
  },
  {
   "cell_type": "code",
   "execution_count": 68,
   "metadata": {},
   "outputs": [
    {
     "data": {
      "text/plain": [
       "0     Single level, move-in ready home in desirable ...\n",
       "1     Gorgeous home charming neighborhood on private...\n",
       "2     This well -maintained home lives large. Situat...\n",
       "3     Come and fall in love with this very well main...\n",
       "4     This lot is situated on a quiet cul de sac of ...\n",
       "5     Stunning craftsman perched atop Simonds Rd, mi...\n",
       "6     Beautiful 4 bdrm with quality finishes through...\n",
       "7     Desirable 2 bed, 1.75 bath condo in an excelle...\n",
       "8     Step inside this beautiful Kenmore home and be...\n",
       "9     Just in time for Summer in the NW! This Finn H...\n",
       "10    Beautiful 2-story condo with 3bdrm/2.5bath con...\n",
       "11    Impeccable 4BR, 4.5BA estate w/ panoramic view...\n",
       "12    New Construction by Homes West Inc, quality be...\n",
       "13    Derisable Wildcliffe Shores! Sunny end-unit, f...\n",
       "14    Rare opportunity to own a riverfront home in t...\n",
       "15    Watch the ever changing Lake Washington views ...\n",
       "16    Sophistication & Luxury in Amber Meadows. No d...\n",
       "17    Beautiful home in the Northshore School Distri...\n",
       "18    Welcome to Elysium Development’s newest reside...\n",
       "19    Like New Contemporary- Open concept home. Comp...\n",
       "20    Rare, main level condo with a fantastic corner...\n",
       "21    This Beautiful and Immaculate home featuring 2...\n",
       "22    Elegant Brekenridge home with intelligent floo...\n",
       "23    You will LOVE this floor plan at the new North...\n",
       "24    Secluded/Room to Roam/Build- Remodel into 3 be...\n",
       "25    {One of a Kind} Updated Throughout 4 Bed 2 Bat...\n",
       "26    Welcome to Elysium Development’s newest reside...\n",
       "27    Timeless top to bottom remodel of this contemp...\n",
       "28    Attn Builders – 3-unit luxury view townhome pr...\n",
       "29    Bring your ideas to this 8000+ SF property in ...\n",
       "30    A Fantastic opportunity to Build two magnifice...\n",
       "31    Wonderful, private setting for this custom bui...\n",
       "32    Come see this Custom Home with nice finishes &...\n",
       "33    Investors/Builders/Developers! Excellent Kirkl...\n",
       "34    Spectacular three lot parcel with views of Lak...\n",
       "35    From this Lakeview property faces South you ca...\n",
       "36    CAMEO 3436 sf -3 car plan (Lot 6)! This plan o...\n",
       "37    Stellar, one of a kind, gated Lake Washington ...\n",
       "38    Just over 3 acres adjacent to Inglewood Golf a...\n",
       "39    Description: Fantastic opportunity for builder...\n",
       "Name: DESC, dtype: object"
      ]
     },
     "execution_count": 68,
     "metadata": {},
     "output_type": "execute_result"
    }
   ],
   "source": [
    "list_of_dfs[6]['DESC']"
   ]
  },
  {
   "cell_type": "code",
   "execution_count": 28,
   "metadata": {},
   "outputs": [],
   "source": [
    "df['DESC'] = ''"
   ]
  },
  {
   "cell_type": "code",
   "execution_count": 40,
   "metadata": {},
   "outputs": [],
   "source": [
    "browser = Chrome()"
   ]
  },
  {
   "cell_type": "code",
   "execution_count": 41,
   "metadata": {},
   "outputs": [
    {
     "name": "stdout",
     "output_type": "stream",
     "text": [
      "0\n",
      "10\n",
      "20\n",
      "30\n",
      "40\n",
      "50\n",
      "60\n",
      "70\n",
      "80\n",
      "90\n",
      "100\n",
      "110\n",
      "120\n"
     ]
    },
    {
     "ename": "RemoteDisconnected",
     "evalue": "Remote end closed connection without response",
     "output_type": "error",
     "traceback": [
      "\u001b[0;31m---------------------------------------------------------------------------\u001b[0m",
      "\u001b[0;31mRemoteDisconnected\u001b[0m                        Traceback (most recent call last)",
      "\u001b[0;32m<ipython-input-41-5ccd4fb7e253>\u001b[0m in \u001b[0;36m<module>\u001b[0;34m()\u001b[0m\n\u001b[1;32m      2\u001b[0m \u001b[0;32mfor\u001b[0m \u001b[0midx\u001b[0m\u001b[0;34m,\u001b[0m \u001b[0mrow\u001b[0m \u001b[0;32min\u001b[0m \u001b[0mdf\u001b[0m\u001b[0;34m.\u001b[0m\u001b[0miterrows\u001b[0m\u001b[0;34m(\u001b[0m\u001b[0;34m)\u001b[0m\u001b[0;34m:\u001b[0m\u001b[0;34m\u001b[0m\u001b[0m\n\u001b[1;32m      3\u001b[0m     \u001b[0murl\u001b[0m \u001b[0;34m=\u001b[0m \u001b[0mrow\u001b[0m\u001b[0;34m[\u001b[0m\u001b[0;34m'URL'\u001b[0m\u001b[0;34m]\u001b[0m\u001b[0;34m\u001b[0m\u001b[0m\n\u001b[0;32m----> 4\u001b[0;31m     \u001b[0mbrowser\u001b[0m\u001b[0;34m.\u001b[0m\u001b[0mget\u001b[0m\u001b[0;34m(\u001b[0m\u001b[0murl\u001b[0m\u001b[0;34m)\u001b[0m\u001b[0;34m\u001b[0m\u001b[0m\n\u001b[0m\u001b[1;32m      5\u001b[0m     \u001b[0msel\u001b[0m \u001b[0;34m=\u001b[0m \u001b[0;34m\"div.sectionContent\"\u001b[0m\u001b[0;34m\u001b[0m\u001b[0m\n\u001b[1;32m      6\u001b[0m     \u001b[0mdescription\u001b[0m \u001b[0;34m=\u001b[0m \u001b[0mbrowser\u001b[0m\u001b[0;34m.\u001b[0m\u001b[0mfind_elements_by_css_selector\u001b[0m\u001b[0;34m(\u001b[0m\u001b[0msel\u001b[0m\u001b[0;34m)\u001b[0m\u001b[0;34m\u001b[0m\u001b[0m\n",
      "\u001b[0;32m/Applications/anaconda3/lib/python3.6/site-packages/selenium/webdriver/remote/webdriver.py\u001b[0m in \u001b[0;36mget\u001b[0;34m(self, url)\u001b[0m\n\u001b[1;32m    322\u001b[0m         \u001b[0mLoads\u001b[0m \u001b[0ma\u001b[0m \u001b[0mweb\u001b[0m \u001b[0mpage\u001b[0m \u001b[0;32min\u001b[0m \u001b[0mthe\u001b[0m \u001b[0mcurrent\u001b[0m \u001b[0mbrowser\u001b[0m \u001b[0msession\u001b[0m\u001b[0;34m.\u001b[0m\u001b[0;34m\u001b[0m\u001b[0m\n\u001b[1;32m    323\u001b[0m         \"\"\"\n\u001b[0;32m--> 324\u001b[0;31m         \u001b[0mself\u001b[0m\u001b[0;34m.\u001b[0m\u001b[0mexecute\u001b[0m\u001b[0;34m(\u001b[0m\u001b[0mCommand\u001b[0m\u001b[0;34m.\u001b[0m\u001b[0mGET\u001b[0m\u001b[0;34m,\u001b[0m \u001b[0;34m{\u001b[0m\u001b[0;34m'url'\u001b[0m\u001b[0;34m:\u001b[0m \u001b[0murl\u001b[0m\u001b[0;34m}\u001b[0m\u001b[0;34m)\u001b[0m\u001b[0;34m\u001b[0m\u001b[0m\n\u001b[0m\u001b[1;32m    325\u001b[0m \u001b[0;34m\u001b[0m\u001b[0m\n\u001b[1;32m    326\u001b[0m     \u001b[0;34m@\u001b[0m\u001b[0mproperty\u001b[0m\u001b[0;34m\u001b[0m\u001b[0m\n",
      "\u001b[0;32m/Applications/anaconda3/lib/python3.6/site-packages/selenium/webdriver/remote/webdriver.py\u001b[0m in \u001b[0;36mexecute\u001b[0;34m(self, driver_command, params)\u001b[0m\n\u001b[1;32m    308\u001b[0m \u001b[0;34m\u001b[0m\u001b[0m\n\u001b[1;32m    309\u001b[0m         \u001b[0mparams\u001b[0m \u001b[0;34m=\u001b[0m \u001b[0mself\u001b[0m\u001b[0;34m.\u001b[0m\u001b[0m_wrap_value\u001b[0m\u001b[0;34m(\u001b[0m\u001b[0mparams\u001b[0m\u001b[0;34m)\u001b[0m\u001b[0;34m\u001b[0m\u001b[0m\n\u001b[0;32m--> 310\u001b[0;31m         \u001b[0mresponse\u001b[0m \u001b[0;34m=\u001b[0m \u001b[0mself\u001b[0m\u001b[0;34m.\u001b[0m\u001b[0mcommand_executor\u001b[0m\u001b[0;34m.\u001b[0m\u001b[0mexecute\u001b[0m\u001b[0;34m(\u001b[0m\u001b[0mdriver_command\u001b[0m\u001b[0;34m,\u001b[0m \u001b[0mparams\u001b[0m\u001b[0;34m)\u001b[0m\u001b[0;34m\u001b[0m\u001b[0m\n\u001b[0m\u001b[1;32m    311\u001b[0m         \u001b[0;32mif\u001b[0m \u001b[0mresponse\u001b[0m\u001b[0;34m:\u001b[0m\u001b[0;34m\u001b[0m\u001b[0m\n\u001b[1;32m    312\u001b[0m             \u001b[0mself\u001b[0m\u001b[0;34m.\u001b[0m\u001b[0merror_handler\u001b[0m\u001b[0;34m.\u001b[0m\u001b[0mcheck_response\u001b[0m\u001b[0;34m(\u001b[0m\u001b[0mresponse\u001b[0m\u001b[0;34m)\u001b[0m\u001b[0;34m\u001b[0m\u001b[0m\n",
      "\u001b[0;32m/Applications/anaconda3/lib/python3.6/site-packages/selenium/webdriver/remote/remote_connection.py\u001b[0m in \u001b[0;36mexecute\u001b[0;34m(self, command, params)\u001b[0m\n\u001b[1;32m    464\u001b[0m         \u001b[0mdata\u001b[0m \u001b[0;34m=\u001b[0m \u001b[0mutils\u001b[0m\u001b[0;34m.\u001b[0m\u001b[0mdump_json\u001b[0m\u001b[0;34m(\u001b[0m\u001b[0mparams\u001b[0m\u001b[0;34m)\u001b[0m\u001b[0;34m\u001b[0m\u001b[0m\n\u001b[1;32m    465\u001b[0m         \u001b[0murl\u001b[0m \u001b[0;34m=\u001b[0m \u001b[0;34m'%s%s'\u001b[0m \u001b[0;34m%\u001b[0m \u001b[0;34m(\u001b[0m\u001b[0mself\u001b[0m\u001b[0;34m.\u001b[0m\u001b[0m_url\u001b[0m\u001b[0;34m,\u001b[0m \u001b[0mpath\u001b[0m\u001b[0;34m)\u001b[0m\u001b[0;34m\u001b[0m\u001b[0m\n\u001b[0;32m--> 466\u001b[0;31m         \u001b[0;32mreturn\u001b[0m \u001b[0mself\u001b[0m\u001b[0;34m.\u001b[0m\u001b[0m_request\u001b[0m\u001b[0;34m(\u001b[0m\u001b[0mcommand_info\u001b[0m\u001b[0;34m[\u001b[0m\u001b[0;36m0\u001b[0m\u001b[0;34m]\u001b[0m\u001b[0;34m,\u001b[0m \u001b[0murl\u001b[0m\u001b[0;34m,\u001b[0m \u001b[0mbody\u001b[0m\u001b[0;34m=\u001b[0m\u001b[0mdata\u001b[0m\u001b[0;34m)\u001b[0m\u001b[0;34m\u001b[0m\u001b[0m\n\u001b[0m\u001b[1;32m    467\u001b[0m \u001b[0;34m\u001b[0m\u001b[0m\n\u001b[1;32m    468\u001b[0m     \u001b[0;32mdef\u001b[0m \u001b[0m_request\u001b[0m\u001b[0;34m(\u001b[0m\u001b[0mself\u001b[0m\u001b[0;34m,\u001b[0m \u001b[0mmethod\u001b[0m\u001b[0;34m,\u001b[0m \u001b[0murl\u001b[0m\u001b[0;34m,\u001b[0m \u001b[0mbody\u001b[0m\u001b[0;34m=\u001b[0m\u001b[0;32mNone\u001b[0m\u001b[0;34m)\u001b[0m\u001b[0;34m:\u001b[0m\u001b[0;34m\u001b[0m\u001b[0m\n",
      "\u001b[0;32m/Applications/anaconda3/lib/python3.6/site-packages/selenium/webdriver/remote/remote_connection.py\u001b[0m in \u001b[0;36m_request\u001b[0;34m(self, method, url, body)\u001b[0m\n\u001b[1;32m    488\u001b[0m             \u001b[0;32mtry\u001b[0m\u001b[0;34m:\u001b[0m\u001b[0;34m\u001b[0m\u001b[0m\n\u001b[1;32m    489\u001b[0m                 \u001b[0mself\u001b[0m\u001b[0;34m.\u001b[0m\u001b[0m_conn\u001b[0m\u001b[0;34m.\u001b[0m\u001b[0mrequest\u001b[0m\u001b[0;34m(\u001b[0m\u001b[0mmethod\u001b[0m\u001b[0;34m,\u001b[0m \u001b[0mparsed_url\u001b[0m\u001b[0;34m.\u001b[0m\u001b[0mpath\u001b[0m\u001b[0;34m,\u001b[0m \u001b[0mbody\u001b[0m\u001b[0;34m,\u001b[0m \u001b[0mheaders\u001b[0m\u001b[0;34m)\u001b[0m\u001b[0;34m\u001b[0m\u001b[0m\n\u001b[0;32m--> 490\u001b[0;31m                 \u001b[0mresp\u001b[0m \u001b[0;34m=\u001b[0m \u001b[0mself\u001b[0m\u001b[0;34m.\u001b[0m\u001b[0m_conn\u001b[0m\u001b[0;34m.\u001b[0m\u001b[0mgetresponse\u001b[0m\u001b[0;34m(\u001b[0m\u001b[0;34m)\u001b[0m\u001b[0;34m\u001b[0m\u001b[0m\n\u001b[0m\u001b[1;32m    491\u001b[0m             \u001b[0;32mexcept\u001b[0m \u001b[0;34m(\u001b[0m\u001b[0mhttplib\u001b[0m\u001b[0;34m.\u001b[0m\u001b[0mHTTPException\u001b[0m\u001b[0;34m,\u001b[0m \u001b[0msocket\u001b[0m\u001b[0;34m.\u001b[0m\u001b[0merror\u001b[0m\u001b[0;34m)\u001b[0m\u001b[0;34m:\u001b[0m\u001b[0;34m\u001b[0m\u001b[0m\n\u001b[1;32m    492\u001b[0m                 \u001b[0mself\u001b[0m\u001b[0;34m.\u001b[0m\u001b[0m_conn\u001b[0m\u001b[0;34m.\u001b[0m\u001b[0mclose\u001b[0m\u001b[0;34m(\u001b[0m\u001b[0;34m)\u001b[0m\u001b[0;34m\u001b[0m\u001b[0m\n",
      "\u001b[0;32m/Applications/anaconda3/lib/python3.6/http/client.py\u001b[0m in \u001b[0;36mgetresponse\u001b[0;34m(self)\u001b[0m\n\u001b[1;32m   1329\u001b[0m         \u001b[0;32mtry\u001b[0m\u001b[0;34m:\u001b[0m\u001b[0;34m\u001b[0m\u001b[0m\n\u001b[1;32m   1330\u001b[0m             \u001b[0;32mtry\u001b[0m\u001b[0;34m:\u001b[0m\u001b[0;34m\u001b[0m\u001b[0m\n\u001b[0;32m-> 1331\u001b[0;31m                 \u001b[0mresponse\u001b[0m\u001b[0;34m.\u001b[0m\u001b[0mbegin\u001b[0m\u001b[0;34m(\u001b[0m\u001b[0;34m)\u001b[0m\u001b[0;34m\u001b[0m\u001b[0m\n\u001b[0m\u001b[1;32m   1332\u001b[0m             \u001b[0;32mexcept\u001b[0m \u001b[0mConnectionError\u001b[0m\u001b[0;34m:\u001b[0m\u001b[0;34m\u001b[0m\u001b[0m\n\u001b[1;32m   1333\u001b[0m                 \u001b[0mself\u001b[0m\u001b[0;34m.\u001b[0m\u001b[0mclose\u001b[0m\u001b[0;34m(\u001b[0m\u001b[0;34m)\u001b[0m\u001b[0;34m\u001b[0m\u001b[0m\n",
      "\u001b[0;32m/Applications/anaconda3/lib/python3.6/http/client.py\u001b[0m in \u001b[0;36mbegin\u001b[0;34m(self)\u001b[0m\n\u001b[1;32m    295\u001b[0m         \u001b[0;31m# read until we get a non-100 response\u001b[0m\u001b[0;34m\u001b[0m\u001b[0;34m\u001b[0m\u001b[0m\n\u001b[1;32m    296\u001b[0m         \u001b[0;32mwhile\u001b[0m \u001b[0;32mTrue\u001b[0m\u001b[0;34m:\u001b[0m\u001b[0;34m\u001b[0m\u001b[0m\n\u001b[0;32m--> 297\u001b[0;31m             \u001b[0mversion\u001b[0m\u001b[0;34m,\u001b[0m \u001b[0mstatus\u001b[0m\u001b[0;34m,\u001b[0m \u001b[0mreason\u001b[0m \u001b[0;34m=\u001b[0m \u001b[0mself\u001b[0m\u001b[0;34m.\u001b[0m\u001b[0m_read_status\u001b[0m\u001b[0;34m(\u001b[0m\u001b[0;34m)\u001b[0m\u001b[0;34m\u001b[0m\u001b[0m\n\u001b[0m\u001b[1;32m    298\u001b[0m             \u001b[0;32mif\u001b[0m \u001b[0mstatus\u001b[0m \u001b[0;34m!=\u001b[0m \u001b[0mCONTINUE\u001b[0m\u001b[0;34m:\u001b[0m\u001b[0;34m\u001b[0m\u001b[0m\n\u001b[1;32m    299\u001b[0m                 \u001b[0;32mbreak\u001b[0m\u001b[0;34m\u001b[0m\u001b[0m\n",
      "\u001b[0;32m/Applications/anaconda3/lib/python3.6/http/client.py\u001b[0m in \u001b[0;36m_read_status\u001b[0;34m(self)\u001b[0m\n\u001b[1;32m    264\u001b[0m             \u001b[0;31m# Presumably, the server closed the connection before\u001b[0m\u001b[0;34m\u001b[0m\u001b[0;34m\u001b[0m\u001b[0m\n\u001b[1;32m    265\u001b[0m             \u001b[0;31m# sending a valid response.\u001b[0m\u001b[0;34m\u001b[0m\u001b[0;34m\u001b[0m\u001b[0m\n\u001b[0;32m--> 266\u001b[0;31m             raise RemoteDisconnected(\"Remote end closed connection without\"\n\u001b[0m\u001b[1;32m    267\u001b[0m                                      \" response\")\n\u001b[1;32m    268\u001b[0m         \u001b[0;32mtry\u001b[0m\u001b[0;34m:\u001b[0m\u001b[0;34m\u001b[0m\u001b[0m\n",
      "\u001b[0;31mRemoteDisconnected\u001b[0m: Remote end closed connection without response"
     ]
    }
   ],
   "source": [
    "desc = []\n",
    "for idx, row in df.iterrows():\n",
    "    url = row['URL']\n",
    "    browser.get(url)\n",
    "    sel = \"div.sectionContent\"\n",
    "    description = browser.find_elements_by_css_selector(sel)\n",
    "    desc.append(description[0].text)\n",
    "    time.sleep(2 + random.random() * 10)\n",
    "    if idx % 10 == 0:\n",
    "        print(idx) "
   ]
  },
  {
   "cell_type": "code",
   "execution_count": 42,
   "metadata": {},
   "outputs": [
    {
     "data": {
      "text/plain": [
       "['Gorgeous 4 bed 3 bath Lynnwood home w/ high-end finishes throughout makes this home feel like new. Kitchen features large island, SS appliances & Quartz counter-tops. Open & spacious floor plan lets in lots of natural light. Master bedroom w/ walk-in closet and beautiful 5 piece en suite including beautiful gas fireplace for added comfort & ambiance. Office/den on main floor. Fully fenced backyard offers covered patio & garden space. Close to shopping, parks, transit center & I-5/I-405.',\n",
       " 'Head down the driveway to the privacy of this completely remodeled hidden gem. Updates include:New roof/gutters, garage door, cabinets, granite counter-top, SS appliances, electric panel, H2O heater, washer/dryer. All new windows & flooring, new tile in the kitchen & bathroom, and fresh paint both in & out. Enjoy the multitude of amenities this area has to offer including easy access to the 509,405,I-5,the airport & Light Rail. Large lot is ready for your designs or possible development? Come take a look!',\n",
       " \"Gorgeous 2Bed 2.25Bath Townhome w/ Stunning Views of Lake Sammamish; Enjoy watching the lake from bed or feel the summer breeze while watching eagles fly by from your own private deck! Open layout with double master suite & abundance of natural light & Remodeled Kitchen w/ slab granite & SS appliances. In-unit laundry+storage. Mins to I90/405 & close to P & R's. Nearby parks, trails & DT Bellevue amenities. Award-winning Issaquah schools. No Rental Cap.\",\n",
       " \"Rare opportunity for this very unique home! This expansive brick rambler on over an acre has tons of updates including: kitchen cabinets, slab granite, SS appliances, all flooring and all three, 3/4 baths. Master bedroom has it's own 3/4 bath. Don't forget to check out the finished bonus room in the back which makes a great office. Two car garage w/ work area & plenty parking for your RV, toys & guests. Tucked away with plenty of privacy on a quiet street yet minutes to I-5 & 167. See it today!\",\n",
       " 'Situated on lg corner lot, meticulously maintained home awaits you! Sunny & airy living room w refinished floors & showcase fireplace flows into spacious dining & kitchen. 2 beds on main & updated bath. Lower level w 3rd bed, 3/4 bath & rec/flex room ideal for extra living space. Entertain & play on expansive, fully fenced yard complete w garden beds & fruit trees or build potential ADU. Parking galore w alley access. Located near all of Ballard restaurant, shops & parks w easy to SLU, UW & DT.',\n",
       " \"Welcome home to entertainers dream. Soaring 2 story formal space w/ show stopping staircase. Gleaming wood flrs lead past nicely appointed office, to lrg great rm. Kitchen offers space to gather & create meals on granite island, wall oven or 5 burner gas range & opens to informal dining space & fam rm w/ gas FP. Venture out to private rear yd for BBQ & enjoy. Main level guest suite or MIL behind kitchen for privacy. Upstairs-3 guest rms, home theater & owner's retreat w/ spa like en suite.\",\n",
       " 'First time on the market in over 30 years! This move in ready rambler at the end of a quiet culdesac is a blank slate for your personal touches. Kitchen boasts SS appliances, tile floors and checkered counters & back splash. Three of the 4 bedrooms have hardwoods underneath. Low maintenance yard is great for entertaining w/ enough space for your garden. Room to park an RV and 2-4 additional vehicles. Close to the mall, shopping, I-5, 405 and incoming light rail station.',\n",
       " \"Truly one-of-a-kind, this spacious 2 bedroom + den rambler on a 1/3+ acre will charm. Fantastic floor plan features dining room w/ huge picture window, bright kitchen that opens to den & living room & beautiful French doors leading to huge deck- perfect for entertaining. Oversized master bedroom, new flooring, & beautiful wood work throughout. Fully fenced corner lot w/ fruit trees, garden beds, fire pit, pizza oven, hot tub, & storage building- perfect for your NW gear! An urban farmer's dream!\",\n",
       " \"Crystal Ridge home, located on quiet cul de sac, offers updated elegance. Pride of ownership evident as you approach. Formal spaces for entertaining flow into open great room. Kitchen boasts new look w/ ample granite counters & new SS apps. Adjoining nook & family rm overlook incredible tiered gardens, unique deck & flagstone patio. Upstairs is large office & nearby guest rm. At top of stairs is large owner's retreat w/ sitting area & giant spa bath, 3 more bdrms & bath. Northshore Schools too.\",\n",
       " 'Immaculate 3 bedroom home tucked away in a gorgeous Mukilteo neighborhood. Highlights include cozy fireplace, formal dining, bonus room, rec room, & large windows w/ abundance of natural light! Kitchen features tile countertops, ample storage, & flows to a separate eating space. Master bed boasts walk-in closet & 5 piece bath w/ glass shower & soaking tub. Backyard offers deck & covered patio as well as plenty of space for activities! Close to the Sound, Boeing, & easy access to 525. Welcome home!',\n",
       " \"This 4 bed 1.75 bath Edmonds home is move-in ready. This home has been well maintained & updated over the last few years including a new roof, windows, flooring, furnace, & water heater. Upstairs you'll find a wood burning fireplace, vaulted open beamed ceiling in living & dining room, 3 bed, 1 bath & remodeled kitchen. Daylight basement includes a large additional bed, 3/4 bath, laundry & large rec room that opens up to patio & large private back yard. Close to schools, parks & shopping.\",\n",
       " 'Remarkable home in an ideal location on Education Hill. Exhaustive renovation plus addition completed in 2016. Gorgeous master suite with walk-in closet and spa-like en-suite. Stunning wide plank hardwood floors, gourmet kitchen with custom cabinetry and walk in pantry. Elegant design throughout the home. Back yard feels like a private retreat with ample space to relax or entertain on the deck or around the fire pit on the patio. Nearby schools and parks, close to the heart of downtown.',\n",
       " 'Views galore! Gorgeous top floor, end unit has an unobstructed view of the Puget Sound and is just steps away from the pool & private beach. Every surface has been updated by the sellers: Slate flooring, kitchen cabinets, slab granite, SS appliances, paint, windows, carpet & marble bath. One of the few units with w/ d in unit! Easy walk to downtown Des Moines & the marina. Minutes to shopping & freeway. Other amenities include gated entry, balcony, picnic area, athletic court & garden space.',\n",
       " 'Absolutely gorgeous 1 bed unit in Greenwood’s Sapphire Condo! Spacious & open main living area features hardwood floors & a lovely kitchen w/ granite counters, tile backsplash, stylish pendant lighting & stainless appliances, all looking out to its large private balcony. Full-sized W/ D & reserved parking w/ storage. Amenity-rich complex includes resident park, patio w/ BBQ & mtn views, game room, fitness center & more. Prime Greenwood location; minutes to restaurants/shopping & easy commute to DT.',\n",
       " 'Ideally located mere blocks to Seattle Center, downtown & everything lower Queen Anne has to offer! This stylish move-in ready unit features an open floor plan, beautiful slab granite counters, stainless steel appliances and bamboo floors. Other highlights include: in-unit washer dryer and parking spot in secured garage. Don’t miss fantastic city and Puget Sound views from roof top deck. No rental cap!',\n",
       " 'Elegant 2 story, oversized 1/3 acre corner lot home with an established nature preserve. 5 spacious bedrooms, 2.5 luxurious baths, ultra large picturesque windows, high-ceilings, beautiful planked floors and A/C! Stylish contemporary kitchen features an upgraded extra-large Caesarstone island, walk-in pantry and SS appls. Expansive great room with huge double sliding glass doors that open to the outdoor covered entertainment deck and 2nd fireplace. Relax to the tranquil sounds of nature!',\n",
       " \"Rare opportunity Tudor home in coveted Belvidere! Situated on corner lot w/ partial city & mtn views, this property can't be missed. Main flr boasts LR/KIT/DR, 2 BR & full BA, upstairs find spacious & private master w/ walk-in closet & 5-piece BA. Mostly fin. lower lvl media RM w/ high ceilings, ready to make your own & attached garage or wine cellar, you choose! Nestled btwn Alaska Junction & Admiral w/ shopping, food, & access to WS Bridge to DT. Enjoy quiet living that’s close to the action!\",\n",
       " 'Welcome home! Amazing craftsmanship, open, light & spacious. 5 bdrms, 2.75 bath w/ huge bonus room featuring ‘in ceiling’ professionally wired surround sound w/ pre-wired/set up projector. Main fl hosts kitchen w/ granite slab, & new appliances. Under mount sink overlooks spacious great room, dining area & fully permitted attached outside pergola, great for entertaining! 1 bdrm on main level w/ ¾ bath. Upstairs find Master w/ en-suite ba & walk in closet. Remaining bdrms-great for office or craft rm.',\n",
       " 'Enjoy gorgeous views of Puget Sound and incredible sunsets while entertaining on the large deck of this beautifully updated home, just 1 block from the beach. Kitchen offers granite counter tops and wood flooring flows thru the open and bright floor plan. Covered off-street parking plus 4 on-site spots and plenty of street parking for your guests, and an extra storage unit. Lobby entry with elevator along with exercise room, sauna, club room and workshop. Welcome Home!',\n",
       " 'Exquisite, northeast corner Insignia sky sanctuary. Take in wraparound views of Puget Sound, Olympics, Lake Union and Cascades from two balconies. Spacious two-bedroom & den plan, expertly elevated with silk, wood and leather wall coverings, custom shelving and closet systems throughout. Side by side, extra deep parking spaces on P0 for easy access. Insignia’s unparalleled amenities include concierge, 41st floor sky lounge, pool, spa, fitness center and screening room. Summer is calling!',\n",
       " 'Well maintained craftsman on a 1/3 acre oasis and private road. Ultra convenient location- walk to light rail, bus, Safeway, restaurants, shopping and dog park. Easy access to freeway, airport and Southcenter Mall. 2 big decks- lots of outdoor living & entertainment. Newer roof, gutters, flooring, paint and many more updates. RV parking and 17 minutes from downtown. Lot is zoned for legal ADU or subdivision.',\n",
       " 'Single level, move-in ready home in desirable Kenmore location! Mid-century modern with natural light and lovely updates. Beautiful kitchen features cherry cabinets, SS appliances, gas range, quartz counter tops and tile back splash. Living room w/ fireplace, large dining room, 3 beds, plus office and large family room! Outdoors find deck, fully fenced yard, new retaining wall, and large shed for storage. Excellent Northshore schools and easy access to Log Boom Park/Lake Washington.',\n",
       " 'Vibrant Craftsman perched between bustling Fremont & stately Woodland Park. This beauty retains charming era finishes: petite front porch, hardwoods, arched doorway delineating formal dining rm, + original fireplace flanked by updated built-ins. Foodie-friendly kitchen & cozy rear sunroom. 2 beds on main, 1 bed plus walk-in closet/ flex space upstairs. Previous owner prepped for master suite/ additional bath upstairs –all you need to do is dormer & continue the dream. LR1 zoning adds potential.',\n",
       " \"This meticulously and completely remodeled 3-bedroom home is located in up & coming Allentown, mere minutes from the Duwamish River. Inside you'll find updated doors, trim, walls, bathroom tiles & fixtures, along with new countertops & stainless steel appliances in the well laid out kitchen. Enjoy the multitude of amenities this area has to offer including easy access to the 509, 99, airport, I-5 and Light Rail. Large backyard is ready for your designs. This home is move-in ready, come take a look!\",\n",
       " 'Pride in ownership is apparent in this Craftsman-style home w/ front sitting porch. Just 3 steps up from the spacious driveway & beautiful bamboo floors welcome you into an open concept living/dining rm. Upstairs find spacious master suite + 3 more beds. Custom tiled back patio leads to an inspired playhouse in an established NW/ Asian influenced garden. Corner lot affords privacy & parking in addition to 2 car garage. Close to Green Lake & I-5, & future Lt Rail. Perfectly practical in every way!',\n",
       " \"Delight in this wonderfully remodeled 3Bed 3Bath, 1,890 sq. ft. home with desirable Great Room that flows seamlessly into the stunning kitchen/dining area perfect for entertaining! You'll adore the designer reclaimed wood used on the fireplace. Lower level you'll find an elegant huge rec room with fireplace & room for an office in addition to a large combo laundry rm & bath. Enjoy the level, peaceful, private fenced backyard surrounded by gorgeous trees. Welcome home!\",\n",
       " 'Welcome home to this modern & sophisticated residence with mountain and lake views. Island kitchen featuring slab quartz counters, \"Abodian\" cabinets, hardwood floors & stairs, custom tile, metal railings. 3 bedrooms + 2.25 baths. Spacious master suite w/ vaulted ceiling, large walk in closet, tile counters, floors, private deck. Big 2 car tandem garage. Gorgeous kitchen, nice deck! Private fully fenced back yard space with entertainment sized patio. Great location just minutes to 1-90.',\n",
       " 'Gorgeous home in The Summit in Riverview gated community! This 4 bedroom, 2.5 bath home has views of Cascades and backs to greenbelt for tons of privacy. The main level has a bright open plan with 9ft ceilings. Kitchen offers white cabinets, solid surface countertops, SS appliances and eating bar. Bonus room/4th bedroom on lower level. Master bedroom w/ en suite & large walk-in closet. Convenient location close to all the amenities & freeway access. This home is a must see!!',\n",
       " \"Be amazed at the space & attention to detail given to this home from the moment you arrive. Show stopper soaring entry w/ overlooking upstairs balcony. Gleaming wood floors lead past bdrm & adjacent ba, on to dining area & great rm. Kitchen offers space to gather & create meals on granite slab island, wall oven or gas range. Kitchen opens to dining space & large family rm w/ gas fp. Rear yd for BBQ & open space. Upstairs are 3 guest rms, home theater & owner's retreat w/ spa like en suite bath.\",\n",
       " 'Opportunity knocks! 1 bed unit in Duncan Place’s coveted 11 stack. Gorgeous floor to ceiling windows & private deck give the unit a sleek modern feel. Bright & sunny w/ open concept kitchen & center island -perfect for entertaining. Upgrades: new flooring, recessed lighting, designer blinds, & fresh paint. In unit laundry & secure parking. Building amenities: roof deck w/ amazing views, secure access & storage unit. EZ commute by bus or future LT Rail. No rental cap & low dues = great investment.',\n",
       " 'Gorgeous 3 bedroom home located on quiet cul-de-sac in Redmond Ridge East! This pristine beauty features spacious floor plan & stunning upgrades throughout: w/ hardwoods, 3 inch mill work, two panel doors, incredible kitchen w/ SS appliances, custom pantry, w/ tons of cabinets and counter space. 2 bedrooms upstairs + lovely master suite & bonus loft. Large backyard w/ extended patio backs to protected greenbelt. Top rated schools. ARCH property ($124,080 annual income limit first 90 days).',\n",
       " 'This gorgeous 2 bedroom 1.75 bath condo in Racquet Club Estates features updated kitchen and baths, new windows, vaulted ceilings with lots of natural light, fireplace, open living/dining room areas with breakfast bar, large master suite with newer dual sink vanity and incls an in unit washer/dryer. The exterior inlcs a great balcony off the dining area for entertaining. All of this located just minutes from Microsoft, restaurants, shopping and freeway access plus No Rental Cap!',\n",
       " 'Situated in quiet cul-de-sac sits this beautiful 3bd/1.5ba rambler nestled on 1/4 acre lot bursting with charm. Surrounded by mature landscaping enjoy growing veggies in raised garden beds, fully fenced backyard & covered brick patio for entertaining. Hardwood floors, cozy wood burning fireplace, open kitchen looks out over living areas. Sliding door opens to private backyard w/ large shop. Attached 1 car garage. Room for RV & boat parking! This home has it all! Just minutes from Alderwood mall',\n",
       " 'Luxurious custom built home with artistic finishes on corner lot with lots of privacy. Bright and airy layout including open living/dining area, cathedral ceilings and grand staircase on entry. Welcome as many guests over as you would like with this spacious kitchen featuring granite counters and both formal and informal dining areas. Upstairs features a master suite with sitting room and a beautiful master bath. All this and a private back yard with 3 west facing decks.',\n",
       " 'Ideally located beautifully updated VIEW 2Bed 2Bath 1,473 sq. ft. condo with lots of natural light throughout and private 1 car garage. Updated kitchen flows seamlessly into the living room with stunning high vaulted ceilings, fireplace, hardwood floors, covered balcony & a gorgeous view of Lake WA. 2nd Bed w/ attached full bath. Master features bay windows, vaulted ceilings & dual closets. Short stroll to Juanita Beach & Juanita Village for recreation, restaurants, & shopping. No Rental Cap!',\n",
       " 'Natural light filled home w/ 3 bedrooms & full bath on main floor! Family rm w/ vaulted ceilings, bay window & wd burning fireplace; kitchen w/ honey oak cabinets, Corian counters, walk in pantry & SS appliances. Remodeled bath, new carpet, fresh interior paint & newer windows. Upper level master suite w/ double closets share a Jack & Jill bath w/ guest bedroom. Huge backyard w/ stamped concrete patio, outbuilding, & tons of room for gardening or ? Perfect location minutes to Hwy 167 & Lake Fenwick!',\n",
       " 'Situated in an ideal Capitol Hill location, which offers great walkability, this gorgeous one bedroom plus den is the epitome of charming. Aptly named, “Garden Court, ” this 1929 brick building encompasses charm w/ period details, a gorgeous courtyard, a back deck and its own yard! The unit itself combines old world charm w/ modern conveniences such as an updated kitchen w/ quartz counters & SS appliances. Freshly painted, refinished hardwoods, & wood wrapped windows and doors lend to its appeal.',\n",
       " 'Spacious 5Br/2.5Ba just minutes from light rail w/ 3 bedrooms, living room & 1 bath on front & 2 bedrooms, large family room, and 1.5 bath on the backside of the house. Warm and inviting hardwood floors throughout, roof is 9 years old, triple pane windows and whole house weatherization package completed in 2014 including installing new insulation in every wall of the house, attic, and under the hardwood floors. LG Air Conditioner with Heating & Cooling installed & oversized detached garage.',\n",
       " \"Newly remodeled home is conveniently located on a tranquil street near multiple parks & play fields. New oak hardwoods, carpet in bedrooms, tile in bathrooms & fresh paint throughout. New lighting, fixtures, & solid fir front/back doors w/ bronze hardware. Kitchen is open to dining/living space & features brand new stainless appliances; Bosch dishwasher, professional hood, Fisher & Paykel fridge, and Samsung range. Huge west facing deck, great for watching sunsets. This one won't disappoint!!\",\n",
       " \"Stately Craftsman home w/ high-end finishes throughout that feels like new! Spacious chef's kitchen boasts granite counters, large island, ss appliances, & custom cabinetry. Living space includes large windows for natural light & manufactured stone fp. This gem also features a formal dining room, office/den, & rec room. Master retreat w/ luxurious 5 piece ensuite bath & large walk-in closet. Fully fenced backyard offers covered patio & garden space. Min from shopping, parks, & easy access to I-5.\",\n",
       " 'Beautiful Home w/ Cascade Views! Just like NEW – enjoy soaring ceilings, light-filled house with large white kitchen, quartz countertops, SS Appliances. Updated bathrooms, new carpet, paint & light fixtures. New roof and water heater too! Huge master BR w/ 5 piece BA, sitting room, and WIC. Formal living & dining room. Corner lot w/ great curb appeal and 2 decks …perfect for outdoor entertainment. Oversized garage. This has everything you’ve been looking for…a must see!!',\n",
       " 'This meticulously maintained home is drenched in sunlight from its floor to ceiling windows & balcony views and is just mins from the water. With 4 bedrooms, 2.5 bathrooms, massive bonus room w/ abundant storage, this home is ready for all your needs. Master Bedroom features a gorgeous 5-piece bathroom and huge walk-in closet. Kitchen has granite countertops, tile backsplash, floors & stainless steel appliances all directly adjacent to the formal dining room. Move-in ready, all appliances stay!',\n",
       " \"Classic craftsman bungalow w/ bright, Southern exposure on a beautiful corner lot in coveted Green Lake. This well-maintained home w/ old world charm is a perfect opportunity to add your personalized touch! The main floor offers living & formal dining rooms, kitchen w/ side yard access, 2nd bed, full bath & den. Upstairs, you'll find the Master, full bath & storage + the unfinished basement offers expansion potential. Idyllic front porch swing, back deck & easy stroll to Green Lake & Tangletown.\",\n",
       " 'Amazing 1 bedroom at Press Condos on the corner of Pine & Belmont in the heart of Capitol Hill. This large corner unit features both south & west facing windows, new wood floors, completely new kitchen including cabinets, counters & stainless appliances, large walk-in closet & in-unit W/ D. Right outside are your favorite bars, restaurants & shops. Amenities include rooftop deck w/ amazing views, gym & owners lounge. No rental cap & pet friendly. The light rail is just blocks away. WalkScore of 99',\n",
       " \"Perched above the street, enjoy Mt. Rainier views from S-facing home. Beautifully landscaped garden & inviting entry w abundant light. Loft-style upper master boasts 10' ceilings, ideal for project or studio space. 2beds/office on main, full bath, spacious kitchen & dining room. Extend living space onto entertainment-sized deck, complete w views, 7-person hot tub & BBQ. MIL or 4th bed & living rm downstairs w separate entry. Desirable Green Lake/Wallingford; steps to the lake, amazing amenities.\",\n",
       " 'Turn key home on a spacious corner lot! Open concept living area with cozy fireplae looks on to the updated kitchen with stainless steel appliances, eating area, & plenty of cabinet space! Generous bedroom & full bathroom on main level. Lower level boasts second spacious bedroom with seating area and large utility room! Fully fenced backyard with patio! Close proximity to Green Lake, freeways, SR-99, shops, down town Seattle, Tangletown, & Meridian playground park. Easy access to I5 & downtown.',\n",
       " \"Elegant Monohon corner unit with an open floorplan and gorgeous finishes! This pristine 2 Bed/2 Bath + den comes with assigned parking and storage in a secure garage with amenities such as a clubhouse and exercise room! Enjoy central A/C, granite counters and stainless steel appliances, 9' ceilings, designer paint, a private terrace, abundant natural light and a cozy gas fireplace with custom built-ins. EZ access to I-90 just minutes to Bellevue and Lake Sammamish with easy commuting to Seattle!\",\n",
       " 'Cool and well cared for remodeled unit in gated Cedar West community. Granite counter-tops, stainless steel appliances, new carpeting, bamboo hardwoods, patio with storage and low dues that include water/sewer/garbage/ins. Full size washer and dryer and all appliances included! Plenty of additional parking and a secure, gated community close to Boeing, Kasch Park, Walter Hall Golf Course, Mukilteo Ferry and easy I-5 access.',\n",
       " \"Welcome to this Verdera gem!On agreenbelt & has over 60K in upgrades. Light floods this fabulous home. You will love the beautiful hrdwd flrs throughout. Newer premium appliances, granite island, fireplace & great room concept w/ formal dining area. Large master w/ custom closets & 5 piece en suite bath. Huge bonus rm for entertaining. Professionally landscaped yards add nice curb appeal. Backyard with privacy. Huge park across the street w/ sport court. Award winning Schools! Don't miss this one!\",\n",
       " \"Bright and modern townhouse in Rainier Valley with open spacious layout & convenient location! This 2-bedroom home has bamboo floors, updated glass tile back splash + gas range in the kitchen, & gas fireplace in the living room. Enjoy the outdoor patio area, ready for a green thumb to add a container garden or raised beds. One-car attached garage w/ room for storage. Great location near light rail & bus lines makes commuting a breeze, plus Columbia City amenities & Seward Park aren't far away!\",\n",
       " 'Lovingly maintained, move-in ready home in great Delridge location. Enjoy the beautifully updated kitchen w/ custom locally-made wood cabinets, granite counters, dining nook + plenty of storage. Spacious living room w/ freestanding wood stove & laminate floors throughout. 3 bedrooms + recently updated full bath, w/ access to bath from master bedroom. Alley access to the large 2-car garage + mature landscaping round out this lovely home. Convenient access to West Seattle neighborhood amenities!',\n",
       " 'Spacious & stylish, this home offers luxury conveniences in an ideal location. Open floor plan, hardwood floors, 3 beds + office, new roof & furnace, AC, & 2 car garage! Enjoy the peaceful landscaped patio & lake views from master & loft. Master suite w/ walk-in closet & ensuite bath. Upstairs loft perfect for 4th bedroom/rec room & boasts rooftop deck & city views! Lower bedroom wired w/ surround sound. Perfectly located a short stroll from Gates Foundation, Amazon campuses, shops & restaurants.',\n",
       " 'Room for everyone! Beautifully upgraded home with 2nd kitchen & detached office with 1/2 bath. Large lot at end of road with park like backyard & pond. Freshly painted interior. Formal living, formal dining, 4 bedrooms, den, rec. room, dual staircases & 2 fireplaces. Large 3 car garage & security gate with long paved driveway running entire length of yard leading to fully contained & permitted additional 2 story office with split duct heating/cooling system. Fenced yard & tons of parking space!',\n",
       " 'Lake Hills 3Bed 2Bath, 1,820 sq. ft. rambler in a quiet convenient unbeatable location, close to everything. Living room w/ vaulted ceilings & a stunning floor to ceiling brick wall fireplace. Kitchen features high-end s/s gas stove w/ dual ovens & eating bar. Master w/ attached bath, walk-in closet, and wood floors. Extra large family room w/ wood burning fireplace and slider to flat fenced backyard and covered patio. Additional heated bonus room off garage perfect for guest room or workshop.',\n",
       " 'One of the largest floorpans in Seola Gardens, this sparkling 4 bedroom offers plenty of room for all of your needs. A grand entrance w/ vaulted ceiling invites you into the main living area, which offers a spacious kitchen/living/dining great room, & access to the low maintenance yard. Upstairs are all 4 bedrooms, including a delectable master suite w/ 5 piece bath & walk-in closet. Oversized 2 car garage & in a quiet community close to parks, shopping, transit & only 8 miles to DT Seattle.',\n",
       " 'Immaculate move-in ready condo at coveted DayBreak at Issaquah Ridge! Thoughtful updates include Brazilian Koa engineered floor, tiled entry, kitchen has all new premium stainless steel appliances (kitchen aid), custom back-splash & granite counter tops. Spacious living room, slate tiled fireplace, plenty of natural light throughout. Bedroom w/ walk in closet. Premium bath vanity, tank-less water heater. NO Rental Cap. EZ I-90 access to major employers, shopping, entertainment, parks & much more!',\n",
       " 'Classic brick Tudor on the coveted Laurelhurst Boulevard. Beautiful, high-end updates combined with period details & Old World charm. Light filled master features spacious closet, gorgeous bathroom with marble counters & private deck with territorial/Space Needle views. Remodeled kitchen with breakfast nook, custom built-ins, & gas fireplace. Impeccably landscaped with tranquil back yard - pergola, apple tree, vegetable garden, & auto watering system. Huge detached garage. Beach Club access!',\n",
       " 'Light & bright w thoughtful design & fresh paint in townhouse style condo! Lower level boasts master w shared bath that opens onto backyard. Open main level w sunny updated kitchen/dining & living room w wood burning FP spills onto large deck w Downtown & Space Needle view perfect for entertaining. Only 2 units w/ low HOA dues (w/ s/g) newer roof & 1 car garage. Ideally located near Phinney Ridge & Ballard amenities, award winning school & parks w easy access to DT, SLU, UW via bus/highways.',\n",
       " 'Gorgeous home charming neighborhood on private cul-de-sac street. Highlights include new stone fireplace, updated wood floors, new roof, spacious bedrooms, new heat pump for air conditioning upstairs, & refinished hardwood floors. The renovated kitchen includes tile floors, granite countertops, bar seating, and ss appliances. Lovely yard perfect for entertaining with a veggie garden, fire pit, large shed, plus new rose bushes and landscaping out front. Close to schools, restaurants, and parks.',\n",
       " 'Investor Alert!! Rare 7,800 sq. ft. Shoreline building lot in an excellent location. Subdivided 10 years ago and approved for utilities. Driveway is in. Mostly cleared, flat and tucked behind another home on Greenwood so it is private and quiet. Sunny lot with a great shape for building. Build the home of your dreams in a great area with great schools',\n",
       " 'Welcome home to Mercerwood Estates! Amazing territorial views of the Cascades. Updated kitchens and bathrooms. Freshly painted interior and exterior. Newer roof, newer appliances, hardwood flooring. Entertain year round on the covered patio and enjoy the fun and relaxing hot tub. Peaceful and quiet dead end cul-de-sac. Top rated schools! Close to JCC, French American School, Mercer Island Pools, Mercerwood Shore Club, and I-90. Lots of restaurants, shopping and more. Make this your new home!',\n",
       " 'Incredible Sound view property on large, corner lot in Arbor Heights. 2 bedrooms + den off kitchen, large laundry & full bath. Hardwoods, gas fireplace insert + new gas furnace in 2013. Unfinished basement provides excellent storage. Detached, permitted 480 sf studio w/ 1 bedroom, living area & full bath - great for guests/home office/rental income. Spacious deck, hot tub, patio, established garden space w/ raised beds + fully fenced yard. Great neighborhood w/ Ocean View Community Beach rights!',\n",
       " 'Main floor great room lives like a rambler w/ inviting new floors & freshly painted interior. Fully finished lower level w/ separate outside entrance. Huge 3rd daylight level! New black quartz countertops in kitchen & new MBR shower. Home theater 120” screen+projector. 2 wood stoves and greenhouse! Two decks overlooking the private ¾ acre lot backing to wetlands. Reinforced concrete room. Plumbed for 2 W/ D & 2nd kitchen. Minutes to parks, shopping & freeways. Easy commute.',\n",
       " 'Top floor open-concept home with secure lobby entrance. Large kitchen has granite & stainless steel appliances plus a cozy gas fireplace in the living room. Relax & take in the views from your private covered deck. Master with attached bath & walk-in closet. Amenities cannot be beat: fitness center, pool, spa, clubhouse, trails, business center, secure garage parking & additional assigned space. New roof, no special assessments & very healthy HOA. Ideally located near area hwys & amenities!',\n",
       " 'Beautiful Norris home in Tahoma Vista! This home has everything you’ve been looking for…hardwood floors, wainscoting, & tray ceilings! Beautiful kitchen w/ granite & tile counter tops, SS appliances & walk-in pantry. Large master bedroom w/ vaulted ceilings, 5 pc bath & walk-in closet w/ built-ins. Office/den off entry. Formal Dining. Huge bonus room upstairs. Backyard w/ patio & play-set perfect for outdoor entertaining. Close to all the amenities. This home is a must see!',\n",
       " 'Immaculate, updated home in popular Jenkin’s Creek! Main level offers Hardwood floors, Open living/dining with gas fireplace, a beautiful chef’s kitchen with nearly new appliances, and a main floor den and powder room. 3 bedrooms up, including the master with 2 walk-in closets and a 5-piece updated bath. Bonus room/loft upstairs is a great flex space. All this on a beautifully landscaped corner lot with a fully-fenced backyard. Don’t miss it!',\n",
       " 'If you are looking for space, this is THE one. With over 3500 sq ft of living space & an additional 1200 sq ft garage, this house has it all. The main house has 4 BR, including a massive master suite w/ walk-in closet & 3/4 bath. Oversized living & dining lead into a gorgeous kitchen w/ ample cabinets & counter space. An additional ADU w/ full kitchen, bath & BR offer income potential. Fully fenced, spacious lot on a quiet street close to parks, shopping & less than 8 miles from DT Seattle.',\n",
       " 'Wonderful move-in ready corner lot home in excellent neighborhood! Main floor features living room with coffered ceilings, large updated kitchen with large peninsula, free standing wood stove and large eating space. Main level bedroom or office. Upper level features 3 bedrooms, full bath, and en suite in master. Huge bonus space with 2 closets could be 5th BR or bonus space. Large fully fenced yard with expansive deck for BBQ and sport court. Northshore schools, easy freeway access.',\n",
       " 'Coveted Sunset Valley Farms home perfectly situated to take in 180 degree mountain views & has a brand new roof! Step inside to gleaming hardwoods & new carpet. Kitchen is outfitted with slab granite & SS appliances. Main floor office/den + ¾ bath. Master suite features an attached bath & walk-in closet. Huge patio with hot tub hookup backs to green space. Newer fence & retaining wall. Boat parking. Big potential with bonus area above garage; approx. 600sqft of storage space/future addition?',\n",
       " 'Exquisite Martha Lake home w/ high end finishes throughout! Beautiful open concept living area w/ stone floor to ceiling FP. Chefs kitchen w/ SS appliances, double ovens, & plenty of cabinet space. Spacious bdrm w/ en suite bath & WIC on main floor with french doors to hot tub. Upstairs, 2nd master bdrm w/ 5 piece bath, WIC, & FP! 3 add. generous bdrms. Bonus room wired for surround sound! Fully fenced yard w/ covered patio! Gas hot water tank w/ circulation, Central A/C, & Smart garage door openers.',\n",
       " '5 BR in Kensington Park, engineered hardwoods, open concept great room, gas fireplace, large dining space, granite countertops, huge island, stainless appliances, guest BR, built-in Murphy bed & ¾ bath downstairs. Upstairs, large master suite w 2 walk-in closets, 3 more BR & large bonus room. Fully fenced, low maintenance landscaped yard w privacy hedges & greenbelt. Patio w huge gazebo. 2 car epoxied garage w custom shelves. Minutes to Mill Creek Town Center, parks & award winning schools!',\n",
       " 'Move-in ready home in desirable Hollywood Hill. Traditional home on shy acre, close to everything Woodinville has to offer. Main level boast living room, dining room, office, open concept family room to updated kitchen including high-end appliances, granite counter tops. Upper level bonus & 3 beds. Outdoors enjoy expansive deck, cedar steam sauna, blueberries, mature landscaping. 50 yr Presidential roof, new carpet, wired for generator, 96%+ efficient furnace. Highly rated Northshore schools.',\n",
       " 'This 5 bed 4 bath home has been beautifully remodeled thru-out. Brand new open kitchen has quartz counter-tops, SS appliances and opens up to dining room & rec-room. Spacious master bedroom on main floor w/ large walk-in closet & 3/4 bath. Potential rental income with fully functional M-I-L suite in basement with separate driveway & entrance, kitchen, 1 bed & 2 non-conforming bed, 1.5 bath, & laundry room. Minutes away from Hwy 99, I-5, & MLT Transit Center makes this home a must see!',\n",
       " 'Lovingly maintained Redondo home in a commuter friendly location just minutes away from I5, yet tucked away. Serene sweeping views of the Sound & Olympics. This home boasts a complete MIL on the lower walkout level. This home is light & bright, master has ensuite with jetted tub & walk-in shower. Enjoy the views from your many decks and from your large picture windows. The home is nestled away in a quiet cul-de-sac with plenty of parking. Mature manicured landscaping adds authentic NW charm.',\n",
       " 'Very desirable floor plan in Woodward. 5 large bedrooms with master on each level. Upstairs master with 5 piece bath and large walk in closet. Formal living room, formal dinning room & a big open family room off kitchen. The many large windows and skylights provide lots of natural light. The interior has been freshly painted and the whole house has brand new carpet. Big entertaining sized deck on a large level lot that backs to a greenbelt for privacy. Big 3 car garage and excellent location!',\n",
       " 'Updated Top-Floor End-Unit w/ resort style living on Lake Sammamish! Freshly painted with new carpet & kitchen flooring, this 1 Bed/1Bath condo features a gorgeous kitchen w/ newer cabinets and under cabinet lights. Enjoy the private deck overlooking trees & creek for peaceful privacy. Reserved parking space & W/ D in unit. Villa Marina amenities w/ Lake Front Cabana, Pool, Hot Tub, and Private Boat Launch. No Rental Cap. Near Redmond Town Center, Bellevue, Microsoft, 520. Lake WA Schools!',\n",
       " 'Tucked in the corner amongst the trees, this strikingly remodeled home lives large & is loaded with features. Special touches include durable Australian Cypress hardwood floors, glass tiled backsplash & wood accent walls. Natural light fills the living room & opens into the kitchen w/ granite counters, new faucet & SS appliances. The updated bathroom is highlighted by a slate tile shower. Relax on the sunny deck to enjoy the beautiful landscaping & don’t miss the oversized garage w/ add’l storage!',\n",
       " 'Delight is this well-maintained 4Bed, 1,290 sq. ft. home within a short stroll to Juanita Beach. Spacious living room w/ woodburning fireplace insert. Kitchen features s/s appliances, wood flooring & eating area. Large flat private fenced backyard w/ plenty of garden space for plant lovers! Upper level features a beautiful cedar wood paneling room w/ built-ins & a bonus room with vaulted ceilings & large skylight. Minutes to I-405 & the new Totem Lake Village w/ Whole Foods, restaurants & shopping.',\n",
       " 'Gorgeous remodeled home! Highlights include wood floors throughout upper level, enclosed outdoor \"catio\", & RV/boat parking. Bright, modern kitchen features ss appliances, tiled backsplash, & granite counters. Master offers updated adjacent bath. Lower level features 2 bonus rms, home office, & 2nd family rm w/ fireplace. Yard has covered patio, rock wall, vertical herb garden, shed, plus open lower lot is full of potential. Includes deeded access to Lake Forest Park Civic Club/Lake Washington.',\n",
       " 'Gorgeous views of the Sound on large lot w/ detached garage! Highlights include gleaming wood floors, cozy fireplace, & spacious beds. Updated kitchen boasts island w/ bar seating, granite countertops, large windows for natural light, & stunning views. Updated fully finished basement includes master bed which offers ensuite bathroom & walk-in closet. The basement also includes a rec room & laundry. Backyard features entertainment sized patio & tons of space for new memories! Your new home awaits!',\n",
       " '$38k price REDUCTION! ENJOY lake-front living THIS SUMMER. Fabulous living room w/ gas FP, built-ins, granite wet bar w/ wine fridge & surround sound! HW floors w/ radiant heat. Chef’s kitchen w/ granite countertops, SS appliances, plentiful storage, built-in kitchen desk & nook! Large master suite w/ lake-view window seat, attached full bath & HUGE walk-in closet. Gated community, pool, dock, fitness center & private lake access. Close to MSFT/GOOG. EZ commute to SBUX/AMZN/freeways. FABULOUS!',\n",
       " '2 BD/1 BA ground flr, private unit in great location! Easy access to 520, 405, Downtown Bellevue & Kirkland waterfront. 10 mins from Google/Microsoft campuses, GIX & 15 mins from Downtown Seattle. Close proximity to trails/Park & Ride. Unit features maple hrdwd floors, SS appliances, granite slab countertop w/ bar, rich cherry cabinets w/ glass doors. Living room with upgraded electric fireplace opens to private extra large patio w/ storage & grassy area for a dogs. 2 designated parking spaces.',\n",
       " 'Bask in the sun and stunning views from your meticulously built new home! With its 4 bedrooms, 3.5 bathrooms, bonus room, and huge storage space, this home is ready for all your needs. The Master Bedroom features a gorgeous 5-piece bathroom and massive walk-in closet. Lower level w/ bedroom and full bathroom is plumbed for 2nd kitchen and filled with possibilities. Instant on H2O heater, A/C, and a sprinkler system are there for your comfort and convenience!',\n",
       " 'Stunning Wedgwood home completely remodeled by award winning Sockeye Homes. Natural light, soaring ceilings & traditional-style luxury finishes including chef’s kitchen w/ oversized island, Wolf gas range, quartz counters & built-in breakfast nook. Open concept great room w/ engineered hardwoods & cozy gas fireplace. Main floor master retreat w/ walk-in double shower. Open loft office, spacious rec room, all new systems, 2 car garage, large corner lot w/ fenced yard, amazing schools & so much more!',\n",
       " 'Iconic Belltown loft at Site 17–first available since 2016. Gleaming concrete floors, soaring 18’ ceilings, expansive windows and full height bedroom with en suite powder room define this unique space. Generous walk-in closet with Elfa shelving. Parking and storage on same level = easy in and out. Freshly painted, water heater recently replaced. Building amenities incl. On-site manager, roof deck, fitness center and community room. Walk Score 98. High-speed CondoInternet ready. No rent cap!',\n",
       " 'Mid-Century Modern Rambler with Mother-In-Law on same level. This home is perfectly situated for entertaining large gatherings. Updated chef’s kitchen w/ breakfast bar, vaulted ceilings, and formal dining room which lead to fully fenced backyard. Mother-in law has private entrance and boasts a full kitchen and full bath. Finished basement is perfect multipurpose room, wine cellar, indoor gym, or whatever suits your needs. Basement is accessible from both dining room and back yard. RV parking.',\n",
       " 'This newly remodeled 3 bed, 2 bath home features a modern and contemporary design. As you walk into the bright & open living/dining rm w/ it’s gleaming hardwoods, you’ll be hard-pressed to miss the picturesque Views! The gorgeous chef’s kitchen features high-end appliances, Corian countertops, and barstool seating. The lower level features 2 comfortable and well laid out bedrooms, along with a full bath. There’s also central AC and a huge 2-car garage. All current appliances stay, move-in ready!',\n",
       " \"Beautiful craftsman style home with gated entry on almost ½ acre! This 4 bedroom & 2.5 bath home has everything you’ve been looking for… beautiful millwork, crown molding, and wainscoting. Chef's kitchen with large center island w/ gas cooktop and stainless appliances. Master bedroom with 5 piece bath & walk-in closet. All bedrooms have walk-in closets. Covered back patio perfect for outdoor entertaining. Tahoma schools. RV parking and much more! A must see!\",\n",
       " 'Fixer in Seaview! This property can become whatever you dream - re-imagine current home (perhaps add 2nd story?) or start over & build your ideal nest. Home has spacious living, dining & large kitchen w/ dining nook on main floor, plus 2 beds & full bath. Deck w/ peekaboo mountain & Sound views. Daylight basement boasts a family room w/ freestanding wood stove, 2 more beds, 3/4 bath, & laundry. Sliders from basement lead to backyard w/ alley access. 30-yr roof installed 2010. Great opportunity!',\n",
       " 'Stunning Mukilteo home in Harbour Pointe. Highlights include updated kitchen with quartz countertops and tile backsplash, stainless steel appliances, and a separate eating area surrounded by windows for an abundance of natural light. Updated master and upper level bathrooms. An office on the main floor and spacious bonus room with a large window on upper level. Large flat backyard backs up to the gorgeous Harbour Pointe Golf Course. Close to shopping, sound and Boeing. Your new home awaits!',\n",
       " 'Spacious and stylish, this updated 3 BR home in quiet Bryn Mawr neighborhood features new Hardie board siding, bamboo flooring, fireplace, dining area overlooks fenced yard, Master ensuite & attached double car garage. The multipurpose bonus room can be a media room or a play space. Private backyard is perfect for summer entertaining & bbq-ing. Located in the quiet cul-de-sac. Minutes from The Landing shopping center, Downtown Renton, Coulon Beach Park, restaurants. Easy access to I-5 & 405.',\n",
       " \"Breathtaking views of Puget Sound in this Mukilteo gem. A grand double door entry leads you into this spacious home w/ soaring ceilings & large windows for an abundance of natural light. Chef's kitchen offers bar seating, granite countertops, ss appliances, & double oven. The master retreat boasts a luxurious ensuite bath, spacious closet, & private balcony entrance w/ sweeping views. Features extensive landscaping & a backyard w/ fish pond! Close to restaurants, the Sound, & Boeing. Welcome home!\",\n",
       " \"Delight is this well maintained updated 4Bed 2Bath 1,650 sq. ft. home. You'll enjoy the beautiful original 1960's hardwood floors. Living and Family Rooms are centered around the dual woodburning fireplace. Both Bathrooms have been gorgeously updated. Kitchen features s/s appliances, eating bar, tile counters & floor. Extra large flat, private fully fenced backyard perfect for entertaining and plenty of garden space. Large custom shed w/ barn doors & wrap around roof porch that matches the house.\",\n",
       " 'Don’t miss this stunning, light-filled home in the heart of Wedgwood! Featuring hardwood floors, all new carpet & paint, new furnace & water heater & beautiful vaulted cedar tongue & groove ceilings. 2 beds + full bath on both main & upper levels, & large family room downstairs. Impeccably landscaped & fully fenced, private front & back yard w/ huge entertainer’s deck. Parking pad in front. Highly desired location w/ easy access to downtown, U-Village, UW, shops, restaurants & more! Great schools!',\n",
       " 'Upper level unit with vaulted ceilings in desirable Bothell Station! This unit overlooks the Burke-Gilman trail, views of Sammamish River from deck, and affords easy access to updated, bustling downtown Bothell. One bedroom, one full bath, stacked washer and dryer, and French doors that lead to bonus space that can be used for dining or office. All appliances stay. Easy access to I405, shops, and restaurants. Great investment opportunity.',\n",
       " 'Spacious, newer construction, tucked-away in a private location. This home features a great room concept with gas fireplace, kitchen with stainless & granite, gas cooking and pantry. Dining area has access to the patio and fenced backyard, which backs to a greenbelt. 4 bedrooms up, including the master with 2 walk-in closets and 5-piece bath. Bonus area perfect for a computer workstation or playroom. Big 2-car garage with extra storage. Great location close to 167, Sounder & Kent Station!',\n",
       " 'Gorgeous rambler with remodeled kitchen and bathroom! Highlights include a hobby room converted in the garage, original hardwood floors, and cozy fireplace. Updated kitchen boasts stainless steel appliances, granite countertops, and clean white cabinetry. Master bedroom offers a separate seating area with access to the backyard deck and fireplace. Large yard includes deck, patio with firepit, garden area, & outdoor kitchen. McMennamins Pool Rights inc. Close to parks and easy access to I-405.',\n",
       " '1 story home + shop/barn w/ 10K lb rated loft, loafing shed, 7 permanent pastures, detached studio on over 3.5 acres! High grade planked laminate flrs, remodeled & expanded kitchen w/ double oven, pantry & bar seating opens 2 formal dining rm; formal living w/ wd burning fp; family rm w/ wood beam accents & gas fp; master suite w/ attached remodeled bath behind barn door; 3 generous sized guest BRs + full bath w/ 2nd H2O tank; utility rm w/ sink, patio w/ hot tub, tons of parking, minutes to shopping!',\n",
       " 'Incredible opportunity in this gorgeous & bright Tyler’s Creek home in Education Hill assigned to 10 star Lk WA Schools. Showcasing quality design w/ open concept flr plan & hardwood flrs on main level & stylish finishes throughout! Kitchen features granite counters, SS appliances & private patio. Upstairs features bonus RM, lrg laundry & 3 BR/2 BA including master suite w/ reading area, 5 piece BA & 2 walk-in closets! Secure garage! EZ access to Microsoft, Nintendo, mins to DT Redmond & more!',\n",
       " 'Welcome home to your private getaway. This amazing two owner home underwent major renovations a while back to add increased space and natural light. A wrap around sun room off the kitchen faces your private backyard, pond and golf course. Great home for entertaining or just enjoying your morning coffee in any weather. Elegant entry leads to open floor plan kitchen/family room and sun room. Master suite with vaulted ceilings, fireplace, private deck and hot tub. A must see home.',\n",
       " 'This spacious 5 bed, 2.5 bath home is located on a 12,000+ square foot lot. Enter to the living & dining areas with bamboo flooring that has been installed throughout main floor. Kitchen features granite counters, SS appliances & slider access to the entertainment ready deck. Master bed includes a 3/4 bath. Daylight basement includes a family room, fireplace, 2 beds plus extra finished room. Private & spacious, fully fenced yard backs up to a greenbelt. Award winning schools, close to Microsoft!',\n",
       " 'View, great location, & recently updated makes this Edmonds condo a must have! This 3 Bed 1.75 Bath condo has a remodeled kitchen with quartz counters, stainless appliances and mosaic back splash. Enjoy the amazing view of the Puget Sound from the deck, dining room and master bedroom. Both bathrooms, water heater, windows, & slider have been updated. Secured building has clubhouse, outdoor pool, storage & plenty of parking. Minutes to shopping, restaurants, beach & the heart of downtown.',\n",
       " 'The ultimate in urban living at award winning Mosler Lofts! Enjoy spectacular views of the Space Needle from your living room! Modern industrial design with open living spaces and high ceilings. Within blocks to Myrtle Edwards & Olympic Sculpture Parks, Seattle Center, and all the dining and nightlife that Belltown has to offer. Amenities include concierge, lounge area, library, fitness room, secured entry & parking and amazing rooftop deck.',\n",
       " 'Spectacular and inviting entry, open floor plan with beautiful finishes. Separate formal vaulted living room & coffered ceiling dining room. Chef’s kitchen, upgraded appliances, subway tile, gorgeous slab granite and a large center island. Great room w/ fireplace. Laundry/Mud room off garage w/ additional closet space. Double doors into Master Suite. Skylights, extended garage w/ extra storage & covered patio. Beautiful fenced private lot! Community Parks & trails. Tankless water heater. Great Location!',\n",
       " \"Bright & spacious 3 bdrm +bonus rooms w/ custom touches throughout! Stunning hardwood floors, skylights, vaulted ceilings. Picturesque views of the LUSH property! Master suite w/ cozy fireplace & en-suite bth w/ dual sinks, soaking tub & walk-in closet. Chef worthy eat-in kitchen w/ granite counters, SS appl's, double oven, wet/coffee bar. Lower level potential MIL/2nd living area, bonus rooms, family room, indoor jacuzzi, etc. Multi-level deck for entertaining! Detached 728sf garage/shop. Must see!\",\n",
       " 'Move in ready condo, in convenient location! Large living area w/ picture windows for tons of natural light. Kitchen w/ SS appliances, breakfast bar seating, & eating area! Spacious master bedroom with en-suite bathroom & private balcony access. Two additional generous bedrooms & 3/4 bathroom. Sliding door access to private balcony from the dining area with peaceful views of surrounding evergreens! Amenities include, outdoor pool, clubhouse & sauna. Close to restaurants, shops, parks, & I-5!',\n",
       " 'This well maintained Des Moines home is move-in ready and waiting for your special touches. The Sound views, large rear deck, spacious landscaped lot and private beach access, all contribute to its feeling of tranquility. The optional Woodmont Beach Club dues include: Boat Launch, Community waterfront/private Beach access, and tennis court. Large, lower level with separate entrance could be MIL or rented separately. 2 car garage with plenty of room for storage. All appliance stay.',\n",
       " \"Magnificent views abound in this stunning & serene West Seattle waterfront condo. Unit completely gutted/remodeled in 2017 w/ thoughtful custom design: chef's kitchen w/ 6-burner dual fuel range; spacious open floor plan to maximize views; Murphy bed in dining area & bath for guests (wall f/ 2nd BR could be added); heated floors in master bath. You'll feel like you're on vacation: long sunny days at the heated outdoor pool on shore's edge, 600 ft private shoreline, boat launch & cmty wood shop.\",\n",
       " 'Shy acre lot with R4 zoning located in a very desirable location of the Renton Highlands with Issaquah Schools! This 40,075 sq. ft. lot has sewers to both the NW and NE corners of property. Surrounded by new construction and award winning neighborhoods. Currently there is an existing 2200+ sq. ft. rambler situated on property that is updated w/ vinyl windows, air-conditioning, newer kitchen & nice open floor plan. Bring your builders, developers or live in current home with future potential.',\n",
       " 'Meticulously maintained ground level condo! Bright & open living area w/ sliding door access to private patio! Kitchen w/ dining area & SS appliances! Master bedroom w/ ensuite bathroom & large walk in closet! Generous second bedroom & full bathroom! Secured access, outdoor pool, & beautifully landscaped grounds. Access to shopping, restaurants, entertainment, I-5, Hwy 99, I-405 and all bus routes. Very close to Aurora Transit Center. Great for first time home buyers! 1 assigned parking spot.',\n",
       " 'First time on market in over 40 years! Custom built mid-century daylight rambler. Over 3,800 sq. ft. of living space on nearly 14,000 sq. ft. lot. 2 car garage. Amazing setting on Kenwanda golf course w/ unbelievable views of the Mt. Baker, Cascade Mtn range & all the Snohomish River Valley has to offer (hot air balloons, skydivers, bald eagles). Good bones, great investment! This is an estate sale. Seller selling \"as-is\". Great location to hwy 9, grocery stores, & shopping. Outstanding Schools.',\n",
       " 'Spacious, completely remodeled 4 bedroom home in Olympic Hills! Modern kitchen w/ SS appliances & high-end cabinetry w/ soft close features. New flooring, electrical panel, plumbing fixtures, furnace, water heater & more. Three bedrooms & a full bath on main floor. Lower level has extra large family room w/ 2nd fireplace, 4th bed, 3/4 bath, designated laundry & a bonus room. Tons of storage & an attached garage. Spacious deck & level, fully-fenced backyard. Easy access to DT, SLU, UW & shopping.',\n",
       " 'Over $21k price REDUCTION! Luxury living @ The Carlton on Mercer Island! Light & bright immaculate condo w/ spacious living & dining, a wood FP & slider to deck. Chef’s kitchen w/ SS appliances, granite & pantry. Large storage in laundry room. 1 parking space in enclosed garage+1 storage unit. Secure elevator building. The Carlton includes community ctr, gym & patio w/ BBQ. NO Rental Cap. Just a stroll away from dining/shops/parks. EZ access to I-90. Ideal location btwn Seattle & Bellevue.',\n",
       " 'City living merges with resort amenities at this supremely well-designed home. Open kitchen with 13’ ceiling, mahogany cabinetry with imported counters & the highest quality appliances. Mountain & lake views abound, including a vibrant city skyline from the spectacular master suite. Expansive roof top deck w/ an inspiring 180-degree panorama. Additional luxuries include media room, elevator, indoor pool, hot tub, sauna & more. Impeccable craftsmanship & custom architectural details throughout!',\n",
       " \"Investors & dream builders–you've found the perfect quiet, secluded home nestled in the treetops on private 18k+ sq. ft. lot. Classic NW home in coveted South Meydenbauer w/ remarkable views of the sparkling Bellevue skyline–a spacious, private property w/ garden space set against the backdrop of DT Bellevue on a quiet cul-de-sac w/ multi- million dollar homes. Walkable to Old Town Bellevue's Main Street, downtown Bellevue & Chism Beach Park. In the middle of it all, but a world apart.\",\n",
       " 'Remodeled mid-century rambler surrounded by nature & in Issaquah School District. Secluded location with Cedar River and territorial views yet convenient to all areas via 405, I5, and 167 as well as “back road” thoroughfares – great for commuters! Floor to ceiling windows bring amazing light. Huge deck overlooking Cedar River for year round entertainment. All new finishes: windows, electrical, hardwoods, quartz countertops and much more. Large attached carport.',\n",
       " \"Space, privacy & serenity greet you here. Entertain your company on the cedar deck that takes advantage of the incredible outdoor setting, or read a book on the stone patio next to the koi pond, or garden in your greenhouse. Add'l heated structure can be an office or hobby/craft room. Snuggle up to a cozy wood stove in your family room to watch the birds & wildlife play outside. Avoid freeways with easy back-road access to Redmond and Everett. Quiet, level cul-de-sac off dead-end street.\",\n",
       " 'Live the posh downtown lifestyle in this 10th floor SW corner unit! Just steps from Downtown Seattle, Amazon- and Whole Foods is downstairs! Perfect for entertaining w/ large open layout and chef’s kitchen w/ gas range. Walls of floor to ceiling windows, central A/C, W/ D in unit, parking + storage. A true dining area & huge living room w/ gas fireplace open to spacious deck. Building amenities: 24-hr full-service concierge, clubhouse, gym, hot tub, guest suite & rooftop view deck. No rental cap!',\n",
       " 'Completely rebuilt and remodeled inside and out. 1400sf home in a prime location close to I5 and shopping, corner 14000sf lot with plenty of room outside. 3 Bedrooms + Office, 2 Full baths. Brand new kitchen, bathrooms, laminate and tile flooring, windows, metal roof, siding, deck, porch, shed. Re-insulated interior and crawlspace, all new pex plumbing, LED lighting. Stainless steel appliances. Partially fenced back yard for bbq and entertainment',\n",
       " 'You will wake up smiling with the morning light beaming in as you gaze out to your mountain sunrise views. This 3,160 square foot 2-story home features on the main floor an updated kitchen, large dining room with views, formal living room, spacious family room, 2 bedrooms and an extra finished room. Upper floor boast your master bedroom suite with views and den/office. All this on a 1 acre cleared lot located close to amenities but far enough way for solitude and privacy.',\n",
       " 'Well located in a walkable neighborhood blocks from the vibrant Mercer Island Town Center district, approx a 1/4 mile from I-90, & roughly halfway between Seattle & Bellevue. Immediate upside potential: Raise rents & implement RUBS. Possible to add 6th unit in ground-level laundry/storage area (buyer to verify). Excellent schools, safe community. Spacious, all-corner units. Long-term tenants, mostly MTM. 0.6 miles from park & ride and future Light Rail (opening 2023). Owner-occupant opportunity.',\n",
       " 'Rarely available, Stunning view home at the coveted Avenue One. Sweeping views of Spaceneedle to puget sound from this SE Corner gorgeous home. Just added new Brazilian cheery hardwoods throughout out, custom wallbed & casework added to 2nd bed. Entertainers dream, chefs kitchen, 6 top gas cooktop, stainless appliances, living room features-gas firplace , fabulous balcony to take in sunsets. 5star amenties, with puget sound roof deck, fitness cntr 2pk, 1stg. 24/7 concierge, no rent cap, guest suite.',\n",
       " 'Darling 3 bedroom 1.75 bath popular tri level on the southwest corner of a quiet cul de sac! This corner lot home features. 3 bedrooms on the upper floor, bright and sunny living spaces, and a lower level family room that could be a 4th bedroom, next to the laundry room with half bath. Dining room with separate kitchen access to back yard is ready for summer with its excellent deck space and is designed for entertaining. Less than a 10 minute-drive to Kent station, schools, and parks.',\n",
       " 'Remodeled, bright, beautiful, gated home with lush acreage in the Bryn Mawr area. 3 BR, 2 Bath on the main level, 4th BR on the lower level next to a spacious family room. Side entrance out to private patio, perfect for entertaining while listening to melodies of rushing waters from Taylor Creek. Separate mud room entrance leads into laundry room. Brand new stainless steel appliances in kitchen, lots of storage. Almost an acre of land to explore and enjoy.',\n",
       " 'Enjoy a marvelous one level Mid-century home surrounded by a lush, corner lot property near the heart of Ravenna. Featuring delightful social spaces with picture windows and newly finished hardwood floors, two good-sized bedrooms and a full bath, a large kitchen with new flooring and an eating space, a breezeway/covered patio - perfect for indoor/outdoor entertaining, and a large one car garage with storage and workshop space. Near the best restaurants and retail the North end has to offer.',\n",
       " 'Super sweet Martha Lake home on a corner 1/3 + acre level landscaped lot. Open concept main floor living area with hardwood flooring throughout. Totally remodeled kitchen with granite counters and stainless steel appliances, including microwave/oven and Viking gas cook top. 3 bedrooms and 2 baths located on the main floor including a master suite. Lower level has a oversized family room with a cozy gas fireplace, plus another bedroom and bath. Double car attached garage for security.',\n",
       " 'North Everett classic-almost a QUARTER ACRE w/ RV parking, alley access & partial view of the Cascades from the sprawling fenced yard. Garage has new roof, covered breezeway to back door and shop space. Original hardwood floors, skylights. Second bed was converted to a flex room. Fire pit, plum trees, hazelnut and a raspberry patch. This lot includes multiple lot numbers and is one of the larger pieces of land in Everett. Long driveway and lots of parking. Great location in a quiet neighborhood!']"
      ]
     },
     "execution_count": 42,
     "metadata": {},
     "output_type": "execute_result"
    }
   ],
   "source": [
    "desc"
   ]
  },
  {
   "cell_type": "code",
   "execution_count": null,
   "metadata": {},
   "outputs": [],
   "source": []
  }
 ],
 "metadata": {
  "kernelspec": {
   "display_name": "Python 3",
   "language": "python",
   "name": "python3"
  },
  "language_info": {
   "codemirror_mode": {
    "name": "ipython",
    "version": 3
   },
   "file_extension": ".py",
   "mimetype": "text/x-python",
   "name": "python",
   "nbconvert_exporter": "python",
   "pygments_lexer": "ipython3",
   "version": "3.6.3"
  }
 },
 "nbformat": 4,
 "nbformat_minor": 2
}
